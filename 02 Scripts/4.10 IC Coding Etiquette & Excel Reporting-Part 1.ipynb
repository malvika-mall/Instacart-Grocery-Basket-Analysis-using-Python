{
 "cells": [
  {
   "cell_type": "markdown",
   "id": "08179622",
   "metadata": {},
   "source": [
    "# Exercise 4.10 IC Final Report Part-1\n",
    "\n",
    "#This script contains the following points:\n",
    "\n",
    "#1 Import Libraries and Data\n",
    "\n",
    "#2 Address any PII data\n",
    "\n",
    "#3 Regional Segementation of Data\n",
    "\n",
    "#4 Exclude low-activity customers\n",
    "\n",
    "#5 Customer profiles\n",
    "\n",
    "#6 Dataframe exported for viualizations in part-2."
   ]
  },
  {
   "cell_type": "markdown",
   "id": "7a7c8874",
   "metadata": {},
   "source": [
    "# 1 Import Libraries and Data"
   ]
  },
  {
   "cell_type": "code",
   "execution_count": 1,
   "id": "c5f58e5e",
   "metadata": {},
   "outputs": [],
   "source": [
    "import pandas as pd\n",
    "import numpy as np\n",
    "import os\n",
    "import matplotlib.pyplot as plt\n",
    "import seaborn as sns\n",
    "import scipy"
   ]
  },
  {
   "cell_type": "code",
   "execution_count": 2,
   "id": "a7744675",
   "metadata": {},
   "outputs": [],
   "source": [
    "# Defining path\n",
    "path=r'C:\\Users\\User01\\16.05.2023 Instacart Basket Analysis'\n",
    "viz_path = r'C:\\Users\\User01\\16.05.2023 Instacart Basket Analysis\\04 Analysis\\Visualizations'"
   ]
  },
  {
   "cell_type": "code",
   "execution_count": 3,
   "id": "b6442f87",
   "metadata": {},
   "outputs": [],
   "source": [
    "#import customer_merged file\n",
    "df=pd.read_pickle(os.path.join(path, '02 Data', 'Prepared Data','customer_merged_updated.pkl'))"
   ]
  },
  {
   "cell_type": "code",
   "execution_count": 4,
   "id": "f417558f",
   "metadata": {},
   "outputs": [
    {
     "data": {
      "text/plain": [
       "(31761277, 34)"
      ]
     },
     "execution_count": 4,
     "metadata": {},
     "output_type": "execute_result"
    }
   ],
   "source": [
    "#check data after importing\n",
    "df.shape"
   ]
  },
  {
   "cell_type": "code",
   "execution_count": 5,
   "id": "72966b2b",
   "metadata": {},
   "outputs": [
    {
     "data": {
      "text/plain": [
       "order_id                    object\n",
       "user_id                     object\n",
       "order_number                  int8\n",
       "orders_day_of_week            int8\n",
       "order_hour_of_day             int8\n",
       "days_since_prior_order     float16\n",
       "product_id                   int32\n",
       "add_to_cart_order            int64\n",
       "reordered                     int8\n",
       "Unnamed: 0                   int64\n",
       "product_name                object\n",
       "aisle_id                      int8\n",
       "department_id                 int8\n",
       "prices                     float32\n",
       "_merge                    category\n",
       "price_range_loc             object\n",
       "busiest_day                 object\n",
       "busiest_days                object\n",
       "busiest_period_of_day       object\n",
       "max_order                     int8\n",
       "loyalty_flag                object\n",
       "mean_price                 float16\n",
       "spender_flag                object\n",
       "median_days                float16\n",
       "frequency_flag              object\n",
       "first_name                  object\n",
       "last_name                   object\n",
       "gender                      object\n",
       "state                       object\n",
       "age                           int8\n",
       "date_joined                 object\n",
       "number_of_dependants          int8\n",
       "marital_status              object\n",
       "income                       int32\n",
       "dtype: object"
      ]
     },
     "execution_count": 5,
     "metadata": {},
     "output_type": "execute_result"
    }
   ],
   "source": [
    "df.dtypes"
   ]
  },
  {
   "cell_type": "code",
   "execution_count": 6,
   "id": "4a47b262",
   "metadata": {},
   "outputs": [
    {
     "data": {
      "text/html": [
       "<div>\n",
       "<style scoped>\n",
       "    .dataframe tbody tr th:only-of-type {\n",
       "        vertical-align: middle;\n",
       "    }\n",
       "\n",
       "    .dataframe tbody tr th {\n",
       "        vertical-align: top;\n",
       "    }\n",
       "\n",
       "    .dataframe thead th {\n",
       "        text-align: right;\n",
       "    }\n",
       "</style>\n",
       "<table border=\"1\" class=\"dataframe\">\n",
       "  <thead>\n",
       "    <tr style=\"text-align: right;\">\n",
       "      <th></th>\n",
       "      <th>order_id</th>\n",
       "      <th>user_id</th>\n",
       "      <th>order_number</th>\n",
       "      <th>orders_day_of_week</th>\n",
       "      <th>order_hour_of_day</th>\n",
       "      <th>days_since_prior_order</th>\n",
       "      <th>product_id</th>\n",
       "      <th>add_to_cart_order</th>\n",
       "      <th>reordered</th>\n",
       "      <th>Unnamed: 0</th>\n",
       "      <th>...</th>\n",
       "      <th>frequency_flag</th>\n",
       "      <th>first_name</th>\n",
       "      <th>last_name</th>\n",
       "      <th>gender</th>\n",
       "      <th>state</th>\n",
       "      <th>age</th>\n",
       "      <th>date_joined</th>\n",
       "      <th>number_of_dependants</th>\n",
       "      <th>marital_status</th>\n",
       "      <th>income</th>\n",
       "    </tr>\n",
       "  </thead>\n",
       "  <tbody>\n",
       "    <tr>\n",
       "      <th>0</th>\n",
       "      <td>2539329</td>\n",
       "      <td>1</td>\n",
       "      <td>1</td>\n",
       "      <td>2</td>\n",
       "      <td>8</td>\n",
       "      <td>NaN</td>\n",
       "      <td>196</td>\n",
       "      <td>1</td>\n",
       "      <td>0</td>\n",
       "      <td>195</td>\n",
       "      <td>...</td>\n",
       "      <td>Regular customer</td>\n",
       "      <td>Linda</td>\n",
       "      <td>Nguyen</td>\n",
       "      <td>Female</td>\n",
       "      <td>Alabama</td>\n",
       "      <td>31</td>\n",
       "      <td>2/17/2019</td>\n",
       "      <td>3</td>\n",
       "      <td>married</td>\n",
       "      <td>40423</td>\n",
       "    </tr>\n",
       "    <tr>\n",
       "      <th>1</th>\n",
       "      <td>2398795</td>\n",
       "      <td>1</td>\n",
       "      <td>2</td>\n",
       "      <td>3</td>\n",
       "      <td>7</td>\n",
       "      <td>15.0</td>\n",
       "      <td>196</td>\n",
       "      <td>1</td>\n",
       "      <td>1</td>\n",
       "      <td>195</td>\n",
       "      <td>...</td>\n",
       "      <td>Regular customer</td>\n",
       "      <td>Linda</td>\n",
       "      <td>Nguyen</td>\n",
       "      <td>Female</td>\n",
       "      <td>Alabama</td>\n",
       "      <td>31</td>\n",
       "      <td>2/17/2019</td>\n",
       "      <td>3</td>\n",
       "      <td>married</td>\n",
       "      <td>40423</td>\n",
       "    </tr>\n",
       "    <tr>\n",
       "      <th>2</th>\n",
       "      <td>473747</td>\n",
       "      <td>1</td>\n",
       "      <td>3</td>\n",
       "      <td>3</td>\n",
       "      <td>12</td>\n",
       "      <td>21.0</td>\n",
       "      <td>196</td>\n",
       "      <td>1</td>\n",
       "      <td>1</td>\n",
       "      <td>195</td>\n",
       "      <td>...</td>\n",
       "      <td>Regular customer</td>\n",
       "      <td>Linda</td>\n",
       "      <td>Nguyen</td>\n",
       "      <td>Female</td>\n",
       "      <td>Alabama</td>\n",
       "      <td>31</td>\n",
       "      <td>2/17/2019</td>\n",
       "      <td>3</td>\n",
       "      <td>married</td>\n",
       "      <td>40423</td>\n",
       "    </tr>\n",
       "    <tr>\n",
       "      <th>3</th>\n",
       "      <td>2254736</td>\n",
       "      <td>1</td>\n",
       "      <td>4</td>\n",
       "      <td>4</td>\n",
       "      <td>7</td>\n",
       "      <td>29.0</td>\n",
       "      <td>196</td>\n",
       "      <td>1</td>\n",
       "      <td>1</td>\n",
       "      <td>195</td>\n",
       "      <td>...</td>\n",
       "      <td>Regular customer</td>\n",
       "      <td>Linda</td>\n",
       "      <td>Nguyen</td>\n",
       "      <td>Female</td>\n",
       "      <td>Alabama</td>\n",
       "      <td>31</td>\n",
       "      <td>2/17/2019</td>\n",
       "      <td>3</td>\n",
       "      <td>married</td>\n",
       "      <td>40423</td>\n",
       "    </tr>\n",
       "    <tr>\n",
       "      <th>4</th>\n",
       "      <td>431534</td>\n",
       "      <td>1</td>\n",
       "      <td>5</td>\n",
       "      <td>4</td>\n",
       "      <td>15</td>\n",
       "      <td>28.0</td>\n",
       "      <td>196</td>\n",
       "      <td>1</td>\n",
       "      <td>1</td>\n",
       "      <td>195</td>\n",
       "      <td>...</td>\n",
       "      <td>Regular customer</td>\n",
       "      <td>Linda</td>\n",
       "      <td>Nguyen</td>\n",
       "      <td>Female</td>\n",
       "      <td>Alabama</td>\n",
       "      <td>31</td>\n",
       "      <td>2/17/2019</td>\n",
       "      <td>3</td>\n",
       "      <td>married</td>\n",
       "      <td>40423</td>\n",
       "    </tr>\n",
       "  </tbody>\n",
       "</table>\n",
       "<p>5 rows × 34 columns</p>\n",
       "</div>"
      ],
      "text/plain": [
       "  order_id user_id  order_number  orders_day_of_week  order_hour_of_day  \\\n",
       "0  2539329       1             1                   2                  8   \n",
       "1  2398795       1             2                   3                  7   \n",
       "2   473747       1             3                   3                 12   \n",
       "3  2254736       1             4                   4                  7   \n",
       "4   431534       1             5                   4                 15   \n",
       "\n",
       "   days_since_prior_order  product_id  add_to_cart_order  reordered  \\\n",
       "0                     NaN         196                  1          0   \n",
       "1                    15.0         196                  1          1   \n",
       "2                    21.0         196                  1          1   \n",
       "3                    29.0         196                  1          1   \n",
       "4                    28.0         196                  1          1   \n",
       "\n",
       "   Unnamed: 0  ...    frequency_flag  first_name  last_name  gender    state  \\\n",
       "0         195  ...  Regular customer       Linda     Nguyen  Female  Alabama   \n",
       "1         195  ...  Regular customer       Linda     Nguyen  Female  Alabama   \n",
       "2         195  ...  Regular customer       Linda     Nguyen  Female  Alabama   \n",
       "3         195  ...  Regular customer       Linda     Nguyen  Female  Alabama   \n",
       "4         195  ...  Regular customer       Linda     Nguyen  Female  Alabama   \n",
       "\n",
       "  age date_joined number_of_dependants marital_status  income  \n",
       "0  31   2/17/2019                    3        married   40423  \n",
       "1  31   2/17/2019                    3        married   40423  \n",
       "2  31   2/17/2019                    3        married   40423  \n",
       "3  31   2/17/2019                    3        married   40423  \n",
       "4  31   2/17/2019                    3        married   40423  \n",
       "\n",
       "[5 rows x 34 columns]"
      ]
     },
     "execution_count": 6,
     "metadata": {},
     "output_type": "execute_result"
    }
   ],
   "source": [
    "df.head()"
   ]
  },
  {
   "cell_type": "markdown",
   "id": "c20d5817",
   "metadata": {},
   "source": [
    "# 2 Address any PII data"
   ]
  },
  {
   "cell_type": "code",
   "execution_count": 7,
   "id": "45721fc7",
   "metadata": {},
   "outputs": [],
   "source": [
    "# Droping PII columns 'first_name' & 'last_name'\n",
    "df.drop(['first_name', 'last_name'], axis=1, inplace=True)"
   ]
  },
  {
   "cell_type": "code",
   "execution_count": 8,
   "id": "689c1873",
   "metadata": {},
   "outputs": [
    {
     "data": {
      "text/plain": [
       "(31761277, 32)"
      ]
     },
     "execution_count": 8,
     "metadata": {},
     "output_type": "execute_result"
    }
   ],
   "source": [
    "#check output\n",
    "df.shape"
   ]
  },
  {
   "cell_type": "markdown",
   "id": "fc0d5d7e",
   "metadata": {},
   "source": [
    "# Removed PII columns 'first_name' and 'last_name' from dataset as they are not relevant for the purpose of analysis in this project."
   ]
  },
  {
   "cell_type": "code",
   "execution_count": 9,
   "id": "efe48a22",
   "metadata": {},
   "outputs": [
    {
     "data": {
      "text/plain": [
       "order_id                        0\n",
       "user_id                         0\n",
       "order_number                    0\n",
       "orders_day_of_week              0\n",
       "order_hour_of_day               0\n",
       "days_since_prior_order    2033302\n",
       "product_id                      0\n",
       "add_to_cart_order               0\n",
       "reordered                       0\n",
       "Unnamed: 0                      0\n",
       "product_name                    0\n",
       "aisle_id                        0\n",
       "department_id                   0\n",
       "prices                          0\n",
       "_merge                          0\n",
       "price_range_loc                 0\n",
       "busiest_day                     0\n",
       "busiest_days                    0\n",
       "busiest_period_of_day           0\n",
       "max_order                       0\n",
       "loyalty_flag                    0\n",
       "mean_price                      0\n",
       "spender_flag                    0\n",
       "median_days                    11\n",
       "frequency_flag                  0\n",
       "gender                          0\n",
       "state                           0\n",
       "age                             0\n",
       "date_joined                     0\n",
       "number_of_dependants            0\n",
       "marital_status                  0\n",
       "income                          0\n",
       "dtype: int64"
      ]
     },
     "execution_count": 9,
     "metadata": {},
     "output_type": "execute_result"
    }
   ],
   "source": [
    "#checking for missing values\n",
    "df.isnull().sum()"
   ]
  },
  {
   "cell_type": "code",
   "execution_count": 10,
   "id": "3cc3363b",
   "metadata": {},
   "outputs": [],
   "source": [
    "#Creating a data frame with null values\n",
    "df_nan = df[df['median_days'].isnull() == True]"
   ]
  },
  {
   "cell_type": "code",
   "execution_count": 11,
   "id": "99f20931",
   "metadata": {},
   "outputs": [
    {
     "data": {
      "text/html": [
       "<div>\n",
       "<style scoped>\n",
       "    .dataframe tbody tr th:only-of-type {\n",
       "        vertical-align: middle;\n",
       "    }\n",
       "\n",
       "    .dataframe tbody tr th {\n",
       "        vertical-align: top;\n",
       "    }\n",
       "\n",
       "    .dataframe thead th {\n",
       "        text-align: right;\n",
       "    }\n",
       "</style>\n",
       "<table border=\"1\" class=\"dataframe\">\n",
       "  <thead>\n",
       "    <tr style=\"text-align: right;\">\n",
       "      <th></th>\n",
       "      <th>user_id</th>\n",
       "      <th>order_number</th>\n",
       "      <th>frequency_flag</th>\n",
       "      <th>median_days</th>\n",
       "    </tr>\n",
       "  </thead>\n",
       "  <tbody>\n",
       "    <tr>\n",
       "      <th>13187866</th>\n",
       "      <td>163549</td>\n",
       "      <td>1</td>\n",
       "      <td>Non-frequent customer</td>\n",
       "      <td>NaN</td>\n",
       "    </tr>\n",
       "    <tr>\n",
       "      <th>13187867</th>\n",
       "      <td>163549</td>\n",
       "      <td>1</td>\n",
       "      <td>Non-frequent customer</td>\n",
       "      <td>NaN</td>\n",
       "    </tr>\n",
       "    <tr>\n",
       "      <th>13187868</th>\n",
       "      <td>163549</td>\n",
       "      <td>1</td>\n",
       "      <td>Non-frequent customer</td>\n",
       "      <td>NaN</td>\n",
       "    </tr>\n",
       "    <tr>\n",
       "      <th>13187869</th>\n",
       "      <td>163549</td>\n",
       "      <td>1</td>\n",
       "      <td>Non-frequent customer</td>\n",
       "      <td>NaN</td>\n",
       "    </tr>\n",
       "    <tr>\n",
       "      <th>13187870</th>\n",
       "      <td>163549</td>\n",
       "      <td>1</td>\n",
       "      <td>Non-frequent customer</td>\n",
       "      <td>NaN</td>\n",
       "    </tr>\n",
       "    <tr>\n",
       "      <th>31734106</th>\n",
       "      <td>159838</td>\n",
       "      <td>1</td>\n",
       "      <td>Non-frequent customer</td>\n",
       "      <td>NaN</td>\n",
       "    </tr>\n",
       "    <tr>\n",
       "      <th>31734107</th>\n",
       "      <td>159838</td>\n",
       "      <td>1</td>\n",
       "      <td>Non-frequent customer</td>\n",
       "      <td>NaN</td>\n",
       "    </tr>\n",
       "    <tr>\n",
       "      <th>31734108</th>\n",
       "      <td>159838</td>\n",
       "      <td>1</td>\n",
       "      <td>Non-frequent customer</td>\n",
       "      <td>NaN</td>\n",
       "    </tr>\n",
       "    <tr>\n",
       "      <th>31734109</th>\n",
       "      <td>159838</td>\n",
       "      <td>1</td>\n",
       "      <td>Non-frequent customer</td>\n",
       "      <td>NaN</td>\n",
       "    </tr>\n",
       "    <tr>\n",
       "      <th>31734110</th>\n",
       "      <td>159838</td>\n",
       "      <td>1</td>\n",
       "      <td>Non-frequent customer</td>\n",
       "      <td>NaN</td>\n",
       "    </tr>\n",
       "    <tr>\n",
       "      <th>31758533</th>\n",
       "      <td>169017</td>\n",
       "      <td>1</td>\n",
       "      <td>Non-frequent customer</td>\n",
       "      <td>NaN</td>\n",
       "    </tr>\n",
       "  </tbody>\n",
       "</table>\n",
       "</div>"
      ],
      "text/plain": [
       "         user_id  order_number         frequency_flag  median_days\n",
       "13187866  163549             1  Non-frequent customer          NaN\n",
       "13187867  163549             1  Non-frequent customer          NaN\n",
       "13187868  163549             1  Non-frequent customer          NaN\n",
       "13187869  163549             1  Non-frequent customer          NaN\n",
       "13187870  163549             1  Non-frequent customer          NaN\n",
       "31734106  159838             1  Non-frequent customer          NaN\n",
       "31734107  159838             1  Non-frequent customer          NaN\n",
       "31734108  159838             1  Non-frequent customer          NaN\n",
       "31734109  159838             1  Non-frequent customer          NaN\n",
       "31734110  159838             1  Non-frequent customer          NaN\n",
       "31758533  169017             1  Non-frequent customer          NaN"
      ]
     },
     "execution_count": 11,
     "metadata": {},
     "output_type": "execute_result"
    }
   ],
   "source": [
    "# Examine subset\n",
    "df_nan[['user_id', 'order_number','frequency_flag', 'median_days']]"
   ]
  },
  {
   "cell_type": "code",
   "execution_count": 12,
   "id": "4164a21c",
   "metadata": {},
   "outputs": [
    {
     "data": {
      "text/html": [
       "<div>\n",
       "<style scoped>\n",
       "    .dataframe tbody tr th:only-of-type {\n",
       "        vertical-align: middle;\n",
       "    }\n",
       "\n",
       "    .dataframe tbody tr th {\n",
       "        vertical-align: top;\n",
       "    }\n",
       "\n",
       "    .dataframe thead th {\n",
       "        text-align: right;\n",
       "    }\n",
       "</style>\n",
       "<table border=\"1\" class=\"dataframe\">\n",
       "  <thead>\n",
       "    <tr style=\"text-align: right;\">\n",
       "      <th></th>\n",
       "      <th>order_id</th>\n",
       "      <th>user_id</th>\n",
       "      <th>order_number</th>\n",
       "      <th>orders_day_of_week</th>\n",
       "      <th>order_hour_of_day</th>\n",
       "      <th>days_since_prior_order</th>\n",
       "      <th>product_id</th>\n",
       "      <th>add_to_cart_order</th>\n",
       "      <th>reordered</th>\n",
       "      <th>Unnamed: 0</th>\n",
       "      <th>...</th>\n",
       "      <th>spender_flag</th>\n",
       "      <th>median_days</th>\n",
       "      <th>frequency_flag</th>\n",
       "      <th>gender</th>\n",
       "      <th>state</th>\n",
       "      <th>age</th>\n",
       "      <th>date_joined</th>\n",
       "      <th>number_of_dependants</th>\n",
       "      <th>marital_status</th>\n",
       "      <th>income</th>\n",
       "    </tr>\n",
       "  </thead>\n",
       "  <tbody>\n",
       "    <tr>\n",
       "      <th>13187866</th>\n",
       "      <td>228286</td>\n",
       "      <td>163549</td>\n",
       "      <td>1</td>\n",
       "      <td>5</td>\n",
       "      <td>10</td>\n",
       "      <td>NaN</td>\n",
       "      <td>13176</td>\n",
       "      <td>1</td>\n",
       "      <td>0</td>\n",
       "      <td>13176</td>\n",
       "      <td>...</td>\n",
       "      <td>Low Spender</td>\n",
       "      <td>NaN</td>\n",
       "      <td>Non-frequent customer</td>\n",
       "      <td>Female</td>\n",
       "      <td>Tennessee</td>\n",
       "      <td>81</td>\n",
       "      <td>3/5/2019</td>\n",
       "      <td>3</td>\n",
       "      <td>married</td>\n",
       "      <td>101009</td>\n",
       "    </tr>\n",
       "    <tr>\n",
       "      <th>13187867</th>\n",
       "      <td>228286</td>\n",
       "      <td>163549</td>\n",
       "      <td>1</td>\n",
       "      <td>5</td>\n",
       "      <td>10</td>\n",
       "      <td>NaN</td>\n",
       "      <td>21137</td>\n",
       "      <td>4</td>\n",
       "      <td>0</td>\n",
       "      <td>21138</td>\n",
       "      <td>...</td>\n",
       "      <td>Low Spender</td>\n",
       "      <td>NaN</td>\n",
       "      <td>Non-frequent customer</td>\n",
       "      <td>Female</td>\n",
       "      <td>Tennessee</td>\n",
       "      <td>81</td>\n",
       "      <td>3/5/2019</td>\n",
       "      <td>3</td>\n",
       "      <td>married</td>\n",
       "      <td>101009</td>\n",
       "    </tr>\n",
       "    <tr>\n",
       "      <th>13187868</th>\n",
       "      <td>228286</td>\n",
       "      <td>163549</td>\n",
       "      <td>1</td>\n",
       "      <td>5</td>\n",
       "      <td>10</td>\n",
       "      <td>NaN</td>\n",
       "      <td>26128</td>\n",
       "      <td>3</td>\n",
       "      <td>0</td>\n",
       "      <td>26129</td>\n",
       "      <td>...</td>\n",
       "      <td>Low Spender</td>\n",
       "      <td>NaN</td>\n",
       "      <td>Non-frequent customer</td>\n",
       "      <td>Female</td>\n",
       "      <td>Tennessee</td>\n",
       "      <td>81</td>\n",
       "      <td>3/5/2019</td>\n",
       "      <td>3</td>\n",
       "      <td>married</td>\n",
       "      <td>101009</td>\n",
       "    </tr>\n",
       "    <tr>\n",
       "      <th>13187869</th>\n",
       "      <td>228286</td>\n",
       "      <td>163549</td>\n",
       "      <td>1</td>\n",
       "      <td>5</td>\n",
       "      <td>10</td>\n",
       "      <td>NaN</td>\n",
       "      <td>20842</td>\n",
       "      <td>2</td>\n",
       "      <td>0</td>\n",
       "      <td>20843</td>\n",
       "      <td>...</td>\n",
       "      <td>Low Spender</td>\n",
       "      <td>NaN</td>\n",
       "      <td>Non-frequent customer</td>\n",
       "      <td>Female</td>\n",
       "      <td>Tennessee</td>\n",
       "      <td>81</td>\n",
       "      <td>3/5/2019</td>\n",
       "      <td>3</td>\n",
       "      <td>married</td>\n",
       "      <td>101009</td>\n",
       "    </tr>\n",
       "    <tr>\n",
       "      <th>13187870</th>\n",
       "      <td>228286</td>\n",
       "      <td>163549</td>\n",
       "      <td>1</td>\n",
       "      <td>5</td>\n",
       "      <td>10</td>\n",
       "      <td>NaN</td>\n",
       "      <td>40969</td>\n",
       "      <td>5</td>\n",
       "      <td>0</td>\n",
       "      <td>40973</td>\n",
       "      <td>...</td>\n",
       "      <td>Low Spender</td>\n",
       "      <td>NaN</td>\n",
       "      <td>Non-frequent customer</td>\n",
       "      <td>Female</td>\n",
       "      <td>Tennessee</td>\n",
       "      <td>81</td>\n",
       "      <td>3/5/2019</td>\n",
       "      <td>3</td>\n",
       "      <td>married</td>\n",
       "      <td>101009</td>\n",
       "    </tr>\n",
       "  </tbody>\n",
       "</table>\n",
       "<p>5 rows × 32 columns</p>\n",
       "</div>"
      ],
      "text/plain": [
       "         order_id user_id  order_number  orders_day_of_week  \\\n",
       "13187866   228286  163549             1                   5   \n",
       "13187867   228286  163549             1                   5   \n",
       "13187868   228286  163549             1                   5   \n",
       "13187869   228286  163549             1                   5   \n",
       "13187870   228286  163549             1                   5   \n",
       "\n",
       "          order_hour_of_day  days_since_prior_order  product_id  \\\n",
       "13187866                 10                     NaN       13176   \n",
       "13187867                 10                     NaN       21137   \n",
       "13187868                 10                     NaN       26128   \n",
       "13187869                 10                     NaN       20842   \n",
       "13187870                 10                     NaN       40969   \n",
       "\n",
       "          add_to_cart_order  reordered  Unnamed: 0  ... spender_flag  \\\n",
       "13187866                  1          0       13176  ...  Low Spender   \n",
       "13187867                  4          0       21138  ...  Low Spender   \n",
       "13187868                  3          0       26129  ...  Low Spender   \n",
       "13187869                  2          0       20843  ...  Low Spender   \n",
       "13187870                  5          0       40973  ...  Low Spender   \n",
       "\n",
       "          median_days         frequency_flag  gender      state age  \\\n",
       "13187866          NaN  Non-frequent customer  Female  Tennessee  81   \n",
       "13187867          NaN  Non-frequent customer  Female  Tennessee  81   \n",
       "13187868          NaN  Non-frequent customer  Female  Tennessee  81   \n",
       "13187869          NaN  Non-frequent customer  Female  Tennessee  81   \n",
       "13187870          NaN  Non-frequent customer  Female  Tennessee  81   \n",
       "\n",
       "         date_joined number_of_dependants marital_status  income  \n",
       "13187866    3/5/2019                    3        married  101009  \n",
       "13187867    3/5/2019                    3        married  101009  \n",
       "13187868    3/5/2019                    3        married  101009  \n",
       "13187869    3/5/2019                    3        married  101009  \n",
       "13187870    3/5/2019                    3        married  101009  \n",
       "\n",
       "[5 rows x 32 columns]"
      ]
     },
     "execution_count": 12,
     "metadata": {},
     "output_type": "execute_result"
    }
   ],
   "source": [
    "#Checking the number of orders for this user_id\n",
    "df_prob = df[df['user_id'] == '163549']\n",
    "df_prob"
   ]
  },
  {
   "cell_type": "markdown",
   "id": "da00a6ed",
   "metadata": {},
   "source": [
    "# Since the user has only 1 order, the median value should be 1, and the order_freq_flag is 'Non-frequent customer'"
   ]
  },
  {
   "cell_type": "code",
   "execution_count": 13,
   "id": "a7d7f8ea",
   "metadata": {},
   "outputs": [],
   "source": [
    "df.fillna({'frequency_flag':'Non-frequent customer', 'median_days': 1}, inplace=True)"
   ]
  },
  {
   "cell_type": "code",
   "execution_count": 14,
   "id": "e3277f6a",
   "metadata": {},
   "outputs": [
    {
     "data": {
      "text/plain": [
       "order_id                        0\n",
       "user_id                         0\n",
       "order_number                    0\n",
       "orders_day_of_week              0\n",
       "order_hour_of_day               0\n",
       "days_since_prior_order    2033302\n",
       "product_id                      0\n",
       "add_to_cart_order               0\n",
       "reordered                       0\n",
       "Unnamed: 0                      0\n",
       "product_name                    0\n",
       "aisle_id                        0\n",
       "department_id                   0\n",
       "prices                          0\n",
       "_merge                          0\n",
       "price_range_loc                 0\n",
       "busiest_day                     0\n",
       "busiest_days                    0\n",
       "busiest_period_of_day           0\n",
       "max_order                       0\n",
       "loyalty_flag                    0\n",
       "mean_price                      0\n",
       "spender_flag                    0\n",
       "median_days                     0\n",
       "frequency_flag                  0\n",
       "gender                          0\n",
       "state                           0\n",
       "age                             0\n",
       "date_joined                     0\n",
       "number_of_dependants            0\n",
       "marital_status                  0\n",
       "income                          0\n",
       "dtype: int64"
      ]
     },
     "execution_count": 14,
     "metadata": {},
     "output_type": "execute_result"
    }
   ],
   "source": [
    "#check for null values\n",
    "df.isnull().sum()"
   ]
  },
  {
   "cell_type": "markdown",
   "id": "51ca93c9",
   "metadata": {},
   "source": [
    "# 3 Regional Segementation of Data"
   ]
  },
  {
   "cell_type": "code",
   "execution_count": 15,
   "id": "a80eb3da",
   "metadata": {},
   "outputs": [],
   "source": [
    "# Divide States into regions according to 'List of regions of the United States' wikipedia entry\n",
    "northeast = ['Maine', 'New Hampshire', 'Vermont', 'Massachusetts', 'Rhode Island', 'Connecticut', 'New York', 'Pennsylvania', 'New Jersey']\n",
    "midwest = ['Wisconsin', 'Michigan', 'Illinois', 'Indiana', 'Ohio', 'North Dakota', 'South Dakota', 'Nebraska', 'Kansas', 'Minnesota', 'Iowa', 'Missouri']\n",
    "south = ['Delaware', 'Maryland', 'District of Columbia', 'Virginia', 'West Virginia', 'North Carolina', 'South Carolina', 'Georgia', 'Florida', 'Kentucky', 'Tennessee', 'Mississippi', 'Alabama', 'Oklahoma', 'Texas', 'Arkansas', 'Louisiana']\n",
    "west = ['Idaho', 'Montana', 'Wyoming', 'Nevada', 'Utah', 'Colorado', 'Arizona', 'New Mexico', 'Alaska', 'Washington', 'Oregon', 'California', 'Hawaii']"
   ]
  },
  {
   "cell_type": "code",
   "execution_count": 16,
   "id": "0b4e1639",
   "metadata": {},
   "outputs": [],
   "source": [
    "# Use the loc function to determine the region for each row in df. \n",
    "df.loc[df['state'].isin(northeast), 'region'] = 'Northeast'\n",
    "df.loc[df['state'].isin(midwest), 'region'] = 'Midwest'\n",
    "df.loc[df['state'].isin(south), 'region'] = 'South'\n",
    "df.loc[df['state'].isin(west), 'region'] = 'West'"
   ]
  },
  {
   "cell_type": "code",
   "execution_count": 17,
   "id": "0a9c5768",
   "metadata": {},
   "outputs": [
    {
     "data": {
      "text/plain": [
       "South        10576677\n",
       "West          8128368\n",
       "Midwest       7446537\n",
       "Northeast     5609695\n",
       "Name: region, dtype: int64"
      ]
     },
     "execution_count": 17,
     "metadata": {},
     "output_type": "execute_result"
    }
   ],
   "source": [
    "# Check the 'region' column for results` \n",
    "df['region'].value_counts(dropna = False)"
   ]
  },
  {
   "cell_type": "code",
   "execution_count": 19,
   "id": "c12e0702",
   "metadata": {},
   "outputs": [],
   "source": [
    "#changing datatype to string\n",
    "df['region']=df['region'].astype('str')"
   ]
  },
  {
   "cell_type": "markdown",
   "id": "c24fc851",
   "metadata": {},
   "source": [
    "# Determine whether there’s a difference in spending habits between the different U.S. regions."
   ]
  },
  {
   "cell_type": "code",
   "execution_count": 20,
   "id": "99ac8c30",
   "metadata": {},
   "outputs": [],
   "source": [
    "# Crosstab between spending_flag and region\n",
    "crosstab_region_spending = pd.crosstab(df['region'], df['spender_flag'], dropna = False)"
   ]
  },
  {
   "cell_type": "code",
   "execution_count": 34,
   "id": "15753e26",
   "metadata": {},
   "outputs": [
    {
     "data": {
      "text/html": [
       "<div>\n",
       "<style scoped>\n",
       "    .dataframe tbody tr th:only-of-type {\n",
       "        vertical-align: middle;\n",
       "    }\n",
       "\n",
       "    .dataframe tbody tr th {\n",
       "        vertical-align: top;\n",
       "    }\n",
       "\n",
       "    .dataframe thead th {\n",
       "        text-align: right;\n",
       "    }\n",
       "</style>\n",
       "<table border=\"1\" class=\"dataframe\">\n",
       "  <thead>\n",
       "    <tr style=\"text-align: right;\">\n",
       "      <th>spender_flag</th>\n",
       "      <th>High Spender</th>\n",
       "      <th>Low Spender</th>\n",
       "    </tr>\n",
       "    <tr>\n",
       "      <th>region</th>\n",
       "      <th></th>\n",
       "      <th></th>\n",
       "    </tr>\n",
       "  </thead>\n",
       "  <tbody>\n",
       "    <tr>\n",
       "      <th>Midwest</th>\n",
       "      <td>14717</td>\n",
       "      <td>7431820</td>\n",
       "    </tr>\n",
       "    <tr>\n",
       "      <th>Northeast</th>\n",
       "      <td>8440</td>\n",
       "      <td>5601255</td>\n",
       "    </tr>\n",
       "    <tr>\n",
       "      <th>South</th>\n",
       "      <td>18107</td>\n",
       "      <td>10558570</td>\n",
       "    </tr>\n",
       "    <tr>\n",
       "      <th>West</th>\n",
       "      <td>14532</td>\n",
       "      <td>8113836</td>\n",
       "    </tr>\n",
       "  </tbody>\n",
       "</table>\n",
       "</div>"
      ],
      "text/plain": [
       "spender_flag  High Spender  Low Spender\n",
       "region                                 \n",
       "Midwest              14717      7431820\n",
       "Northeast             8440      5601255\n",
       "South                18107     10558570\n",
       "West                 14532      8113836"
      ]
     },
     "execution_count": 34,
     "metadata": {},
     "output_type": "execute_result"
    }
   ],
   "source": [
    "crosstab_region_spending"
   ]
  },
  {
   "cell_type": "markdown",
   "id": "0dc26cde",
   "metadata": {},
   "source": [
    "# South and Midwest regions are high spenders whereas Northeast region is the low spender amongst others."
   ]
  },
  {
   "cell_type": "code",
   "execution_count": 27,
   "id": "ac838357",
   "metadata": {},
   "outputs": [],
   "source": [
    "#Copying Crosstab to excel\n",
    "crosstab_region_spending.to_clipboard()"
   ]
  },
  {
   "cell_type": "code",
   "execution_count": 35,
   "id": "9fe23f2f",
   "metadata": {},
   "outputs": [],
   "source": [
    "#import departments_wrangled.csv as df_dep\n",
    "df_dep = pd.read_csv(os.path.join(path, '02 Data', 'Prepared Data', 'departments_wrangled.csv'), index_col = False)"
   ]
  },
  {
   "cell_type": "code",
   "execution_count": 36,
   "id": "752ecc87",
   "metadata": {},
   "outputs": [],
   "source": [
    "# Rename unnamed column to 'department_id'\n",
    "df_dep.rename(columns = {'Unnamed: 0' : 'department_id'}, inplace = True)"
   ]
  },
  {
   "cell_type": "code",
   "execution_count": 37,
   "id": "b12a8824",
   "metadata": {},
   "outputs": [],
   "source": [
    "# Create a data dictionary for departments\n",
    "dept_dict = dict(zip(df_dep[\"department_id\"], df_dep[\"department\"]))"
   ]
  },
  {
   "cell_type": "code",
   "execution_count": 38,
   "id": "c857118b",
   "metadata": {},
   "outputs": [
    {
     "data": {
      "text/html": [
       "<div>\n",
       "<style scoped>\n",
       "    .dataframe tbody tr th:only-of-type {\n",
       "        vertical-align: middle;\n",
       "    }\n",
       "\n",
       "    .dataframe tbody tr th {\n",
       "        vertical-align: top;\n",
       "    }\n",
       "\n",
       "    .dataframe thead th {\n",
       "        text-align: right;\n",
       "    }\n",
       "</style>\n",
       "<table border=\"1\" class=\"dataframe\">\n",
       "  <thead>\n",
       "    <tr style=\"text-align: right;\">\n",
       "      <th></th>\n",
       "      <th>department_id</th>\n",
       "      <th>department</th>\n",
       "    </tr>\n",
       "  </thead>\n",
       "  <tbody>\n",
       "    <tr>\n",
       "      <th>0</th>\n",
       "      <td>1</td>\n",
       "      <td>frozen</td>\n",
       "    </tr>\n",
       "    <tr>\n",
       "      <th>1</th>\n",
       "      <td>2</td>\n",
       "      <td>other</td>\n",
       "    </tr>\n",
       "    <tr>\n",
       "      <th>2</th>\n",
       "      <td>3</td>\n",
       "      <td>bakery</td>\n",
       "    </tr>\n",
       "    <tr>\n",
       "      <th>3</th>\n",
       "      <td>4</td>\n",
       "      <td>produce</td>\n",
       "    </tr>\n",
       "    <tr>\n",
       "      <th>4</th>\n",
       "      <td>5</td>\n",
       "      <td>alcohol</td>\n",
       "    </tr>\n",
       "  </tbody>\n",
       "</table>\n",
       "</div>"
      ],
      "text/plain": [
       "   department_id department\n",
       "0              1     frozen\n",
       "1              2      other\n",
       "2              3     bakery\n",
       "3              4    produce\n",
       "4              5    alcohol"
      ]
     },
     "execution_count": 38,
     "metadata": {},
     "output_type": "execute_result"
    }
   ],
   "source": [
    "df_dep.head()"
   ]
  },
  {
   "cell_type": "code",
   "execution_count": 39,
   "id": "de0973e9",
   "metadata": {},
   "outputs": [
    {
     "data": {
      "text/plain": [
       "{1: 'frozen',\n",
       " 2: 'other',\n",
       " 3: 'bakery',\n",
       " 4: 'produce',\n",
       " 5: 'alcohol',\n",
       " 6: 'international',\n",
       " 7: 'beverages',\n",
       " 8: 'pets',\n",
       " 9: 'dry goods pasta',\n",
       " 10: 'bulk',\n",
       " 11: 'personal care',\n",
       " 12: 'meat seafood',\n",
       " 13: 'pantry',\n",
       " 14: 'breakfast',\n",
       " 15: 'canned goods',\n",
       " 16: 'dairy eggs',\n",
       " 17: 'household',\n",
       " 18: 'babies',\n",
       " 19: 'snacks',\n",
       " 20: 'deli',\n",
       " 21: 'missing'}"
      ]
     },
     "execution_count": 39,
     "metadata": {},
     "output_type": "execute_result"
    }
   ],
   "source": [
    "dept_dict"
   ]
  },
  {
   "cell_type": "code",
   "execution_count": 40,
   "id": "ea3ab7f1",
   "metadata": {},
   "outputs": [],
   "source": [
    "# Create a column to add the department name to df\n",
    "df['department'] = df['department_id'].map(dept_dict)"
   ]
  },
  {
   "cell_type": "code",
   "execution_count": 41,
   "id": "67c3ca7f",
   "metadata": {},
   "outputs": [
    {
     "data": {
      "text/plain": [
       "(31761277, 34)"
      ]
     },
     "execution_count": 41,
     "metadata": {},
     "output_type": "execute_result"
    }
   ],
   "source": [
    "#check the df shape\n",
    "df.shape"
   ]
  },
  {
   "cell_type": "markdown",
   "id": "7954db6d",
   "metadata": {},
   "source": [
    "# 4 Exclude low-activity customers"
   ]
  },
  {
   "cell_type": "code",
   "execution_count": 42,
   "id": "f106091c",
   "metadata": {},
   "outputs": [],
   "source": [
    "# Creating an exclusion flag for low-activity customers with <5 total orders using 'max_order' column.\n",
    "df_reg_cust = df[df['max_order'] >= 5]"
   ]
  },
  {
   "cell_type": "code",
   "execution_count": 43,
   "id": "ee2f8e67",
   "metadata": {},
   "outputs": [
    {
     "data": {
      "text/plain": [
       "(30350431, 34)"
      ]
     },
     "execution_count": 43,
     "metadata": {},
     "output_type": "execute_result"
    }
   ],
   "source": [
    "#Checking dimensions\n",
    "df_reg_cust.shape"
   ]
  },
  {
   "cell_type": "markdown",
   "id": "4d3f7319",
   "metadata": {},
   "source": [
    "# 5 Customer Profiling"
   ]
  },
  {
   "cell_type": "code",
   "execution_count": 45,
   "id": "0f3b2317",
   "metadata": {},
   "outputs": [
    {
     "data": {
      "text/plain": [
       "count    3.035043e+07\n",
       "mean     4.946731e+01\n",
       "std      1.848533e+01\n",
       "min      1.800000e+01\n",
       "25%      3.300000e+01\n",
       "50%      4.900000e+01\n",
       "75%      6.500000e+01\n",
       "max      8.100000e+01\n",
       "Name: age, dtype: float64"
      ]
     },
     "execution_count": 45,
     "metadata": {},
     "output_type": "execute_result"
    }
   ],
   "source": [
    "#Check the descriptive statistics for age variable\n",
    "df_reg_cust['age'].describe()"
   ]
  },
  {
   "cell_type": "code",
   "execution_count": 47,
   "id": "32527106",
   "metadata": {},
   "outputs": [
    {
     "data": {
      "text/plain": [
       "<Axes: ylabel='Frequency'>"
      ]
     },
     "execution_count": 47,
     "metadata": {},
     "output_type": "execute_result"
    },
    {
     "data": {
      "image/png": "[encoded data removed]",
      "text/plain": [
       "<Figure size 640x480 with 1 Axes>"
      ]
     },
     "metadata": {},
     "output_type": "display_data"
    }
   ],
   "source": [
    "#Create a histogram of customer age\n",
    "df_reg_cust['age'].plot.hist(bins = 64)"
   ]
  },
  {
   "cell_type": "code",
   "execution_count": 48,
   "id": "93a11ec9",
   "metadata": {},
   "outputs": [
    {
     "data": {
      "image/png": "[encoded data removed]",
      "text/plain": [
       "<Figure size 640x480 with 1 Axes>"
      ]
     },
     "metadata": {},
     "output_type": "display_data"
    }
   ],
   "source": [
    "#recreating a scatterplot from Task 4.9 to show income range by age \n",
    "splot = sns.scatterplot(x = 'age', y = 'income',data = df_reg_cust)"
   ]
  },
  {
   "cell_type": "markdown",
   "id": "75ac720f",
   "metadata": {},
   "source": [
    "# The Histogram illustrates uniform distribution of customers until 430000 and shows a slight variation above 450000. \n",
    "\n",
    "# Whereas, the scatterplot shows an increase in income range around age 40 and 65 will be used since it is a normal retirement age.\n",
    "\n",
    "\n",
    "# Customers will be classified as follows -Young Adult: < 40 -Middle-Aged: 40-65 -Senior: >= 65"
   ]
  },
  {
   "cell_type": "code",
   "execution_count": 49,
   "id": "17e43806",
   "metadata": {},
   "outputs": [
    {
     "name": "stderr",
     "output_type": "stream",
     "text": [
      "C:\\Users\\User01\\AppData\\Local\\Temp\\ipykernel_8880\\2283442893.py:2: SettingWithCopyWarning: \n",
      "A value is trying to be set on a copy of a slice from a DataFrame.\n",
      "Try using .loc[row_indexer,col_indexer] = value instead\n",
      "\n",
      "See the caveats in the documentation: https://pandas.pydata.org/pandas-docs/stable/user_guide/indexing.html#returning-a-view-versus-a-copy\n",
      "  df_reg_cust.loc[(df_reg_cust['age'] < 40), 'age_group'] = 'Young Adult'\n"
     ]
    }
   ],
   "source": [
    "# Creating age_group classification - using loc to add new columns\n",
    "df_reg_cust.loc[(df_reg_cust['age'] < 40), 'age_group'] = 'Young Adult'\n",
    "df_reg_cust.loc[(df_reg_cust['age'] >= 40) & (df['age'] < 65), 'age_group'] = 'Middle-Aged'\n",
    "df_reg_cust.loc[df_reg_cust['age'] >= 65, 'age_group'] = 'Senior'"
   ]
  },
  {
   "cell_type": "code",
   "execution_count": 50,
   "id": "a0068859",
   "metadata": {},
   "outputs": [
    {
     "data": {
      "text/plain": [
       "Middle-Aged    11863888\n",
       "Senior          8032143\n",
       "Young Adult    10454400\n",
       "Name: age_group, dtype: int64"
      ]
     },
     "execution_count": 50,
     "metadata": {},
     "output_type": "execute_result"
    }
   ],
   "source": [
    "#Checking entries of age_group column - by amount of products ordered\n",
    "df_reg_cust['age_group'].value_counts(dropna = False).sort_index()"
   ]
  },
  {
   "cell_type": "code",
   "execution_count": 51,
   "id": "0717a4c5",
   "metadata": {},
   "outputs": [
    {
     "data": {
      "text/plain": [
       "count    3.035043e+07\n",
       "mean     9.960619e+04\n",
       "std      4.311527e+04\n",
       "min      2.590300e+04\n",
       "25%      6.722400e+04\n",
       "50%      9.671900e+04\n",
       "75%      1.280170e+05\n",
       "max      5.939010e+05\n",
       "Name: income, dtype: float64"
      ]
     },
     "execution_count": 51,
     "metadata": {},
     "output_type": "execute_result"
    }
   ],
   "source": [
    "#Income profile\n",
    "df_reg_cust['income'].describe()"
   ]
  },
  {
   "cell_type": "code",
   "execution_count": 52,
   "id": "d369a3ee",
   "metadata": {},
   "outputs": [
    {
     "data": {
      "image/png": "[encoded data removed]",
      "text/plain": [
       "<Figure size 640x480 with 1 Axes>"
      ]
     },
     "metadata": {},
     "output_type": "display_data"
    }
   ],
   "source": [
    "#Create a histogram of customer income\n",
    "hist_cust_income = df_reg_cust['income'].plot.hist(bins = 25)"
   ]
  },
  {
   "cell_type": "markdown",
   "id": "50b21c09",
   "metadata": {},
   "source": [
    "# Income range of customers ranges between 25k to 593k whereas Average income ranges 99k. "
   ]
  },
  {
   "cell_type": "markdown",
   "id": "e7d79073",
   "metadata": {},
   "source": [
    "# Customers Income can be flagged as 0-75k, 75-150k & 150K and above using loc function."
   ]
  },
  {
   "cell_type": "code",
   "execution_count": 53,
   "id": "2d6b41cd",
   "metadata": {},
   "outputs": [
    {
     "name": "stderr",
     "output_type": "stream",
     "text": [
      "C:\\Users\\User01\\AppData\\Local\\Temp\\ipykernel_8880\\1002087655.py:2: SettingWithCopyWarning: \n",
      "A value is trying to be set on a copy of a slice from a DataFrame.\n",
      "Try using .loc[row_indexer,col_indexer] = value instead\n",
      "\n",
      "See the caveats in the documentation: https://pandas.pydata.org/pandas-docs/stable/user_guide/indexing.html#returning-a-view-versus-a-copy\n",
      "  df_reg_cust.loc[(df_reg_cust['income'] < 75000), 'income_group'] = '0-75k'\n"
     ]
    }
   ],
   "source": [
    "# Create income_group classification\n",
    "df_reg_cust.loc[(df_reg_cust['income'] < 75000), 'income_group'] = '0-75k'\n",
    "df_reg_cust.loc[(df_reg_cust['income'] >= 75000) & (df_reg_cust['income'] < 150000), 'income_group'] = '075-150k'\n",
    "df_reg_cust.loc[(df_reg_cust['income'] >= 150000), 'income_group'] = '150k+'"
   ]
  },
  {
   "cell_type": "code",
   "execution_count": 54,
   "id": "9878ae11",
   "metadata": {},
   "outputs": [
    {
     "data": {
      "text/plain": [
       "075-150k    16808605\n",
       "0-75k        9729901\n",
       "150k+        3811925\n",
       "Name: income_group, dtype: int64"
      ]
     },
     "execution_count": 54,
     "metadata": {},
     "output_type": "execute_result"
    }
   ],
   "source": [
    "# Check the 'income_group' counts by number of items ordered\n",
    "df_reg_cust['income_group'].value_counts(dropna = False)"
   ]
  },
  {
   "cell_type": "code",
   "execution_count": 55,
   "id": "a1645303",
   "metadata": {},
   "outputs": [
    {
     "data": {
      "text/plain": [
       "(30350431, 36)"
      ]
     },
     "execution_count": 55,
     "metadata": {},
     "output_type": "execute_result"
    }
   ],
   "source": [
    "df_reg_cust.shape"
   ]
  },
  {
   "cell_type": "code",
   "execution_count": 56,
   "id": "f787738b",
   "metadata": {},
   "outputs": [
    {
     "data": {
      "text/plain": [
       "count    3.035043e+07\n",
       "mean     1.501632e+00\n",
       "std      1.118935e+00\n",
       "min      0.000000e+00\n",
       "25%      0.000000e+00\n",
       "50%      2.000000e+00\n",
       "75%      3.000000e+00\n",
       "max      3.000000e+00\n",
       "Name: number_of_dependants, dtype: float64"
      ]
     },
     "execution_count": 56,
     "metadata": {},
     "output_type": "execute_result"
    }
   ],
   "source": [
    "# Family/dependants profile\n",
    "df_reg_cust['number_of_dependants'].describe()"
   ]
  },
  {
   "cell_type": "code",
   "execution_count": 58,
   "id": "de14c459",
   "metadata": {},
   "outputs": [
    {
     "data": {
      "text/plain": [
       "<Axes: ylabel='Frequency'>"
      ]
     },
     "execution_count": 58,
     "metadata": {},
     "output_type": "execute_result"
    },
    {
     "data": {
      "image/png": "[encoded data removed]",
      "text/plain": [
       "<Figure size 640x480 with 1 Axes>"
      ]
     },
     "metadata": {},
     "output_type": "display_data"
    }
   ],
   "source": [
    "#Create a histogram of customer dependants\n",
    "df_reg_cust['number_of_dependants'].plot.hist(bins = 4)"
   ]
  },
  {
   "cell_type": "code",
   "execution_count": 59,
   "id": "b340850e",
   "metadata": {},
   "outputs": [],
   "source": [
    "#Create a crosstab between number_dependants and family_status\n",
    "family_crosstab = pd.crosstab(df_reg_cust['marital_status'], df_reg_cust['number_of_dependants'], dropna = False)"
   ]
  },
  {
   "cell_type": "code",
   "execution_count": 60,
   "id": "4ff45d31",
   "metadata": {},
   "outputs": [
    {
     "data": {
      "text/html": [
       "<div>\n",
       "<style scoped>\n",
       "    .dataframe tbody tr th:only-of-type {\n",
       "        vertical-align: middle;\n",
       "    }\n",
       "\n",
       "    .dataframe tbody tr th {\n",
       "        vertical-align: top;\n",
       "    }\n",
       "\n",
       "    .dataframe thead th {\n",
       "        text-align: right;\n",
       "    }\n",
       "</style>\n",
       "<table border=\"1\" class=\"dataframe\">\n",
       "  <thead>\n",
       "    <tr style=\"text-align: right;\">\n",
       "      <th>number_of_dependants</th>\n",
       "      <th>0</th>\n",
       "      <th>1</th>\n",
       "      <th>2</th>\n",
       "      <th>3</th>\n",
       "    </tr>\n",
       "    <tr>\n",
       "      <th>marital_status</th>\n",
       "      <th></th>\n",
       "      <th></th>\n",
       "      <th></th>\n",
       "      <th></th>\n",
       "    </tr>\n",
       "  </thead>\n",
       "  <tbody>\n",
       "    <tr>\n",
       "      <th>divorced/widowed</th>\n",
       "      <td>2593447</td>\n",
       "      <td>0</td>\n",
       "      <td>0</td>\n",
       "      <td>0</td>\n",
       "    </tr>\n",
       "    <tr>\n",
       "      <th>living with parents and siblings</th>\n",
       "      <td>0</td>\n",
       "      <td>498009</td>\n",
       "      <td>475301</td>\n",
       "      <td>478470</td>\n",
       "    </tr>\n",
       "    <tr>\n",
       "      <th>married</th>\n",
       "      <td>0</td>\n",
       "      <td>7067284</td>\n",
       "      <td>7103996</td>\n",
       "      <td>7138629</td>\n",
       "    </tr>\n",
       "    <tr>\n",
       "      <th>single</th>\n",
       "      <td>4995295</td>\n",
       "      <td>0</td>\n",
       "      <td>0</td>\n",
       "      <td>0</td>\n",
       "    </tr>\n",
       "  </tbody>\n",
       "</table>\n",
       "</div>"
      ],
      "text/plain": [
       "number_of_dependants                    0        1        2        3\n",
       "marital_status                                                      \n",
       "divorced/widowed                  2593447        0        0        0\n",
       "living with parents and siblings        0   498009   475301   478470\n",
       "married                                 0  7067284  7103996  7138629\n",
       "single                            4995295        0        0        0"
      ]
     },
     "execution_count": 60,
     "metadata": {},
     "output_type": "execute_result"
    }
   ],
   "source": [
    "family_crosstab"
   ]
  },
  {
   "cell_type": "code",
   "execution_count": 62,
   "id": "c819fc60",
   "metadata": {},
   "outputs": [],
   "source": [
    "family_crosstab.to_clipboard()"
   ]
  },
  {
   "cell_type": "markdown",
   "id": "a8707041",
   "metadata": {},
   "source": [
    "# The family crosstab shows that No Single/Divorced/Widowed have dependants. Hence, Customers can be classified as No dependant=0 & >1 as Has Dependants."
   ]
  },
  {
   "cell_type": "code",
   "execution_count": 64,
   "id": "df03c0ff",
   "metadata": {},
   "outputs": [
    {
     "name": "stderr",
     "output_type": "stream",
     "text": [
      "C:\\Users\\User01\\AppData\\Local\\Temp\\ipykernel_8880\\1091383250.py:2: SettingWithCopyWarning: \n",
      "A value is trying to be set on a copy of a slice from a DataFrame.\n",
      "Try using .loc[row_indexer,col_indexer] = value instead\n",
      "\n",
      "See the caveats in the documentation: https://pandas.pydata.org/pandas-docs/stable/user_guide/indexing.html#returning-a-view-versus-a-copy\n",
      "  df_reg_cust.loc[(df_reg_cust['number_of_dependants'] == 0), 'dependants'] = 'No dependants'\n"
     ]
    }
   ],
   "source": [
    "# Create family_status classification\n",
    "df_reg_cust.loc[(df_reg_cust['number_of_dependants'] == 0), 'dependants'] = 'No dependants'\n",
    "df_reg_cust.loc[(df_reg_cust['number_of_dependants'] >= 1), 'dependants'] = 'Has dependants'"
   ]
  },
  {
   "cell_type": "code",
   "execution_count": 65,
   "id": "c27b1dd8",
   "metadata": {},
   "outputs": [
    {
     "data": {
      "text/plain": [
       "Has dependants    22761689\n",
       "No dependants      7588742\n",
       "Name: dependants, dtype: int64"
      ]
     },
     "execution_count": 65,
     "metadata": {},
     "output_type": "execute_result"
    }
   ],
   "source": [
    "# Check the 'dependants' counts by the number of items ordered\n",
    "df_reg_cust['dependants'].value_counts(dropna = False)"
   ]
  },
  {
   "cell_type": "code",
   "execution_count": 66,
   "id": "6c0f88e2",
   "metadata": {},
   "outputs": [],
   "source": [
    "# Diet choice\n",
    "diet_crosstab = pd.crosstab(df_reg_cust['department_id'], df_reg_cust['user_id'], dropna = False)"
   ]
  },
  {
   "cell_type": "code",
   "execution_count": 70,
   "id": "d9d9685d",
   "metadata": {},
   "outputs": [],
   "source": [
    "# Assigning diet flags to users and storing it in a dictionary\n",
    "diet_dict = dict()\n",
    "for user in diet_crosstab:\n",
    "    workinglist = diet_crosstab[user].tolist()\n",
    "    if workinglist[12] == 0 and workinglist[16] == 0:\n",
    "        diet_dict[user] = 'Vegan'\n",
    "    elif workinglist[12] == 0:\n",
    "        diet_dict[user] = 'Vegetarian'\n",
    "    else:\n",
    "        diet_dict[user] = 'Non-Vegetarian'"
   ]
  },
  {
   "cell_type": "code",
   "execution_count": 71,
   "id": "8437f7b0",
   "metadata": {},
   "outputs": [],
   "source": [
    "# assigning user flags to the list\n",
    "diet_list = []\n",
    "for user in df_reg_cust['user_id']:\n",
    "    diet_list.append(diet_dict[user])"
   ]
  },
  {
   "cell_type": "code",
   "execution_count": 72,
   "id": "77276f1d",
   "metadata": {},
   "outputs": [
    {
     "name": "stderr",
     "output_type": "stream",
     "text": [
      "C:\\Users\\User01\\AppData\\Local\\Temp\\ipykernel_8880\\358397100.py:2: SettingWithCopyWarning: \n",
      "A value is trying to be set on a copy of a slice from a DataFrame.\n",
      "Try using .loc[row_indexer,col_indexer] = value instead\n",
      "\n",
      "See the caveats in the documentation: https://pandas.pydata.org/pandas-docs/stable/user_guide/indexing.html#returning-a-view-versus-a-copy\n",
      "  df_reg_cust['meal_preference'] = diet_list\n"
     ]
    }
   ],
   "source": [
    "#Adding 'diet_style' column to df_reg_cust\n",
    "df_reg_cust['meal_preference'] = diet_list"
   ]
  },
  {
   "cell_type": "code",
   "execution_count": 73,
   "id": "111b8ded",
   "metadata": {},
   "outputs": [
    {
     "data": {
      "text/plain": [
       "Non-Vegetarian    29319234\n",
       "Vegan               597841\n",
       "Vegetarian          433356\n",
       "Name: meal_preference, dtype: int64"
      ]
     },
     "execution_count": 73,
     "metadata": {},
     "output_type": "execute_result"
    }
   ],
   "source": [
    "df_reg_cust['meal_preference'].value_counts(dropna = False)"
   ]
  },
  {
   "cell_type": "code",
   "execution_count": 75,
   "id": "030ded0d",
   "metadata": {},
   "outputs": [
    {
     "data": {
      "text/plain": [
       "(30350431, 38)"
      ]
     },
     "execution_count": 75,
     "metadata": {},
     "output_type": "execute_result"
    }
   ],
   "source": [
    "df_reg_cust.shape"
   ]
  },
  {
   "cell_type": "code",
   "execution_count": 80,
   "id": "cf545944",
   "metadata": {},
   "outputs": [],
   "source": [
    "#Export df_reg_cust in .pkl format\n",
    "df_reg_cust.to_pickle(os.path.join(path, '02 Data', 'Prepared Data', 'instacart_data_all_reg_customers.pkl'))"
   ]
  },
  {
   "cell_type": "markdown",
   "id": "ca2450a0",
   "metadata": {},
   "source": [
    "# All visualizations are included in 4.10 IC Coding Etiquette & Excel Reporting-Part-2"
   ]
  },
  {
   "cell_type": "code",
   "execution_count": null,
   "id": "4ea53e1c",
   "metadata": {},
   "outputs": [],
   "source": []
  }
 ],
 "metadata": {
  "kernelspec": {
   "display_name": "Python 3 (ipykernel)",
   "language": "python",
   "name": "python3"
  },
  "language_info": {
   "codemirror_mode": {
    "name": "ipython",
    "version": 3
   },
   "file_extension": ".py",
   "mimetype": "text/x-python",
   "name": "python",
   "nbconvert_exporter": "python",
   "pygments_lexer": "ipython3",
   "version": "3.10.9"
  }
 },
 "nbformat": 4,
 "nbformat_minor": 5
}
