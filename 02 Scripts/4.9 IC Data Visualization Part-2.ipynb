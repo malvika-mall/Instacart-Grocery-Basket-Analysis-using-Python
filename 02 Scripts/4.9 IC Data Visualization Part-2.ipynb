{
 "cells": [
  {
   "cell_type": "markdown",
   "id": "4c1229d6",
   "metadata": {},
   "source": [
    "# Exercise 4.9 IC Data Visualization Part-2\n",
    "\n",
    "#This script contains following:\n",
    "\n",
    "#1 Import Libraries and Dataset;\n",
    "\n",
    "#2 Creating a Bar Chart;\n",
    "\n",
    "#3 Creating a Histogram;\n",
    "\n",
    "#4 Creating Scatter Plot;\n",
    "\n",
    "#5 Creating random list to test sample data using np.random.rand() <= 0.7;\n",
    "\n",
    "#6 Visualizing profile distributions;\n",
    "\n",
    "#7 Descriptive statistics on customer profiles;\n",
    "\n",
    "#8 Visualizing regional profile differences;\n",
    "\n",
    "#9 Exporting final Dataset in pickle format.\n"
   ]
  },
  {
   "cell_type": "markdown",
   "id": "526b9294",
   "metadata": {},
   "source": [
    "# 01 Importing Libraries"
   ]
  },
  {
   "cell_type": "code",
   "execution_count": 1,
   "id": "8441dcb9",
   "metadata": {},
   "outputs": [],
   "source": [
    "import pandas as pd\n",
    "import numpy as np\n",
    "import os\n",
    "import matplotlib.pyplot as plt\n",
    "import seaborn as sns\n",
    "import scipy"
   ]
  },
  {
   "cell_type": "markdown",
   "id": "9620d70e",
   "metadata": {},
   "source": [
    "# 02 Importing Datasets"
   ]
  },
  {
   "cell_type": "code",
   "execution_count": 2,
   "id": "6f37bcd3",
   "metadata": {},
   "outputs": [],
   "source": [
    "# Defining path\n",
    "path=r'C:\\Users\\User01\\16.05.2023 Instacart Basket Analysis'"
   ]
  },
  {
   "cell_type": "code",
   "execution_count": 3,
   "id": "fc8687bf",
   "metadata": {},
   "outputs": [],
   "source": [
    "# Importing mergerd orders_products_aggregated and customer data file\n",
    "df_combined = pd.read_pickle(os.path.join(path, '02 Data', 'Prepared Data','customer_merged.pkl'))"
   ]
  },
  {
   "cell_type": "code",
   "execution_count": 4,
   "id": "b54a3061",
   "metadata": {},
   "outputs": [
    {
     "data": {
      "text/html": [
       "<div>\n",
       "<style scoped>\n",
       "    .dataframe tbody tr th:only-of-type {\n",
       "        vertical-align: middle;\n",
       "    }\n",
       "\n",
       "    .dataframe tbody tr th {\n",
       "        vertical-align: top;\n",
       "    }\n",
       "\n",
       "    .dataframe thead th {\n",
       "        text-align: right;\n",
       "    }\n",
       "</style>\n",
       "<table border=\"1\" class=\"dataframe\">\n",
       "  <thead>\n",
       "    <tr style=\"text-align: right;\">\n",
       "      <th></th>\n",
       "      <th>order_id</th>\n",
       "      <th>user_id</th>\n",
       "      <th>order_number</th>\n",
       "      <th>orders_day_of_week</th>\n",
       "      <th>order_hour_of_day</th>\n",
       "      <th>days_since_prior_order</th>\n",
       "      <th>product_id</th>\n",
       "      <th>add_to_cart_order</th>\n",
       "      <th>reordered</th>\n",
       "      <th>Unnamed: 0</th>\n",
       "      <th>...</th>\n",
       "      <th>frequency_flag</th>\n",
       "      <th>first_name</th>\n",
       "      <th>last_name</th>\n",
       "      <th>gender</th>\n",
       "      <th>state</th>\n",
       "      <th>age</th>\n",
       "      <th>date_joined</th>\n",
       "      <th>number_of_dependants</th>\n",
       "      <th>marital_status</th>\n",
       "      <th>income</th>\n",
       "    </tr>\n",
       "  </thead>\n",
       "  <tbody>\n",
       "    <tr>\n",
       "      <th>0</th>\n",
       "      <td>2539329</td>\n",
       "      <td>1</td>\n",
       "      <td>1</td>\n",
       "      <td>2</td>\n",
       "      <td>8</td>\n",
       "      <td>NaN</td>\n",
       "      <td>196</td>\n",
       "      <td>1</td>\n",
       "      <td>0</td>\n",
       "      <td>195</td>\n",
       "      <td>...</td>\n",
       "      <td>Regular customer</td>\n",
       "      <td>Linda</td>\n",
       "      <td>Nguyen</td>\n",
       "      <td>Female</td>\n",
       "      <td>Alabama</td>\n",
       "      <td>31</td>\n",
       "      <td>2/17/2019</td>\n",
       "      <td>3</td>\n",
       "      <td>married</td>\n",
       "      <td>40423</td>\n",
       "    </tr>\n",
       "    <tr>\n",
       "      <th>1</th>\n",
       "      <td>2398795</td>\n",
       "      <td>1</td>\n",
       "      <td>2</td>\n",
       "      <td>3</td>\n",
       "      <td>7</td>\n",
       "      <td>15.0</td>\n",
       "      <td>196</td>\n",
       "      <td>1</td>\n",
       "      <td>1</td>\n",
       "      <td>195</td>\n",
       "      <td>...</td>\n",
       "      <td>Regular customer</td>\n",
       "      <td>Linda</td>\n",
       "      <td>Nguyen</td>\n",
       "      <td>Female</td>\n",
       "      <td>Alabama</td>\n",
       "      <td>31</td>\n",
       "      <td>2/17/2019</td>\n",
       "      <td>3</td>\n",
       "      <td>married</td>\n",
       "      <td>40423</td>\n",
       "    </tr>\n",
       "    <tr>\n",
       "      <th>2</th>\n",
       "      <td>473747</td>\n",
       "      <td>1</td>\n",
       "      <td>3</td>\n",
       "      <td>3</td>\n",
       "      <td>12</td>\n",
       "      <td>21.0</td>\n",
       "      <td>196</td>\n",
       "      <td>1</td>\n",
       "      <td>1</td>\n",
       "      <td>195</td>\n",
       "      <td>...</td>\n",
       "      <td>Regular customer</td>\n",
       "      <td>Linda</td>\n",
       "      <td>Nguyen</td>\n",
       "      <td>Female</td>\n",
       "      <td>Alabama</td>\n",
       "      <td>31</td>\n",
       "      <td>2/17/2019</td>\n",
       "      <td>3</td>\n",
       "      <td>married</td>\n",
       "      <td>40423</td>\n",
       "    </tr>\n",
       "    <tr>\n",
       "      <th>3</th>\n",
       "      <td>2254736</td>\n",
       "      <td>1</td>\n",
       "      <td>4</td>\n",
       "      <td>4</td>\n",
       "      <td>7</td>\n",
       "      <td>29.0</td>\n",
       "      <td>196</td>\n",
       "      <td>1</td>\n",
       "      <td>1</td>\n",
       "      <td>195</td>\n",
       "      <td>...</td>\n",
       "      <td>Regular customer</td>\n",
       "      <td>Linda</td>\n",
       "      <td>Nguyen</td>\n",
       "      <td>Female</td>\n",
       "      <td>Alabama</td>\n",
       "      <td>31</td>\n",
       "      <td>2/17/2019</td>\n",
       "      <td>3</td>\n",
       "      <td>married</td>\n",
       "      <td>40423</td>\n",
       "    </tr>\n",
       "    <tr>\n",
       "      <th>4</th>\n",
       "      <td>431534</td>\n",
       "      <td>1</td>\n",
       "      <td>5</td>\n",
       "      <td>4</td>\n",
       "      <td>15</td>\n",
       "      <td>28.0</td>\n",
       "      <td>196</td>\n",
       "      <td>1</td>\n",
       "      <td>1</td>\n",
       "      <td>195</td>\n",
       "      <td>...</td>\n",
       "      <td>Regular customer</td>\n",
       "      <td>Linda</td>\n",
       "      <td>Nguyen</td>\n",
       "      <td>Female</td>\n",
       "      <td>Alabama</td>\n",
       "      <td>31</td>\n",
       "      <td>2/17/2019</td>\n",
       "      <td>3</td>\n",
       "      <td>married</td>\n",
       "      <td>40423</td>\n",
       "    </tr>\n",
       "  </tbody>\n",
       "</table>\n",
       "<p>5 rows × 34 columns</p>\n",
       "</div>"
      ],
      "text/plain": [
       "  order_id user_id  order_number  orders_day_of_week  order_hour_of_day  \\\n",
       "0  2539329       1             1                   2                  8   \n",
       "1  2398795       1             2                   3                  7   \n",
       "2   473747       1             3                   3                 12   \n",
       "3  2254736       1             4                   4                  7   \n",
       "4   431534       1             5                   4                 15   \n",
       "\n",
       "   days_since_prior_order  product_id  add_to_cart_order  reordered  \\\n",
       "0                     NaN         196                  1          0   \n",
       "1                    15.0         196                  1          1   \n",
       "2                    21.0         196                  1          1   \n",
       "3                    29.0         196                  1          1   \n",
       "4                    28.0         196                  1          1   \n",
       "\n",
       "   Unnamed: 0  ...    frequency_flag  first_name  last_name  gender    state  \\\n",
       "0         195  ...  Regular customer       Linda     Nguyen  Female  Alabama   \n",
       "1         195  ...  Regular customer       Linda     Nguyen  Female  Alabama   \n",
       "2         195  ...  Regular customer       Linda     Nguyen  Female  Alabama   \n",
       "3         195  ...  Regular customer       Linda     Nguyen  Female  Alabama   \n",
       "4         195  ...  Regular customer       Linda     Nguyen  Female  Alabama   \n",
       "\n",
       "  age date_joined number_of_dependants marital_status  income  \n",
       "0  31   2/17/2019                    3        married   40423  \n",
       "1  31   2/17/2019                    3        married   40423  \n",
       "2  31   2/17/2019                    3        married   40423  \n",
       "3  31   2/17/2019                    3        married   40423  \n",
       "4  31   2/17/2019                    3        married   40423  \n",
       "\n",
       "[5 rows x 34 columns]"
      ]
     },
     "execution_count": 4,
     "metadata": {},
     "output_type": "execute_result"
    }
   ],
   "source": [
    "df_combined.head()"
   ]
  },
  {
   "cell_type": "code",
   "execution_count": 5,
   "id": "e706a079",
   "metadata": {},
   "outputs": [
    {
     "data": {
      "image/png": "[encoded data removed]",
      "text/plain": [
       "<Figure size 640x480 with 1 Axes>"
      ]
     },
     "metadata": {},
     "output_type": "display_data"
    }
   ],
   "source": [
    "#Creating a bar chart\n",
    "bar = df_combined['orders_day_of_week'].value_counts().plot.bar()"
   ]
  },
  {
   "cell_type": "code",
   "execution_count": 6,
   "id": "3a5b4b9a",
   "metadata": {},
   "outputs": [
    {
     "data": {
      "image/png": "[encoded data removed]",
      "text/plain": [
       "<Figure size 640x480 with 1 Axes>"
      ]
     },
     "metadata": {},
     "output_type": "display_data"
    }
   ],
   "source": [
    "#Sort bar chart\n",
    "bar = df_combined['orders_day_of_week'].value_counts().sort_index().plot.bar()"
   ]
  },
  {
   "cell_type": "code",
   "execution_count": 7,
   "id": "ffc6e937",
   "metadata": {},
   "outputs": [
    {
     "ename": "FileNotFoundError",
     "evalue": "[Errno 2] No such file or directory: 'C:\\\\Users\\\\User01\\\\16.05.2023 Instacart Basket Analysis\\\\04 Analysis\\\\Visualizations\\\\bar_combined.png'",
     "output_type": "error",
     "traceback": [
      "\u001b[1;31m---------------------------------------------------------------------------\u001b[0m",
      "\u001b[1;31mFileNotFoundError\u001b[0m                         Traceback (most recent call last)",
      "Cell \u001b[1;32mIn[7], line 2\u001b[0m\n\u001b[0;32m      1\u001b[0m \u001b[38;5;66;03m#Exporting bar chart \u001b[39;00m\n\u001b[1;32m----> 2\u001b[0m \u001b[43mbar\u001b[49m\u001b[38;5;241;43m.\u001b[39;49m\u001b[43mfigure\u001b[49m\u001b[38;5;241;43m.\u001b[39;49m\u001b[43msavefig\u001b[49m\u001b[43m(\u001b[49m\u001b[43mos\u001b[49m\u001b[38;5;241;43m.\u001b[39;49m\u001b[43mpath\u001b[49m\u001b[38;5;241;43m.\u001b[39;49m\u001b[43mjoin\u001b[49m\u001b[43m(\u001b[49m\u001b[43mpath\u001b[49m\u001b[43m,\u001b[49m\u001b[43m \u001b[49m\u001b[38;5;124;43m'\u001b[39;49m\u001b[38;5;124;43m04 Analysis\u001b[39;49m\u001b[38;5;124;43m'\u001b[39;49m\u001b[43m,\u001b[49m\u001b[43m \u001b[49m\u001b[38;5;124;43m'\u001b[39;49m\u001b[38;5;124;43mVisualizations\u001b[39;49m\u001b[38;5;124;43m'\u001b[39;49m\u001b[43m,\u001b[49m\u001b[43m \u001b[49m\u001b[38;5;124;43m'\u001b[39;49m\u001b[38;5;124;43mbar_combined.png\u001b[39;49m\u001b[38;5;124;43m'\u001b[39;49m\u001b[43m)\u001b[49m\u001b[43m)\u001b[49m\n",
      "File \u001b[1;32m~\\anaconda3\\lib\\site-packages\\matplotlib\\figure.py:3328\u001b[0m, in \u001b[0;36mFigure.savefig\u001b[1;34m(self, fname, transparent, **kwargs)\u001b[0m\n\u001b[0;32m   3324\u001b[0m     \u001b[38;5;28;01mfor\u001b[39;00m ax \u001b[38;5;129;01min\u001b[39;00m \u001b[38;5;28mself\u001b[39m\u001b[38;5;241m.\u001b[39maxes:\n\u001b[0;32m   3325\u001b[0m         stack\u001b[38;5;241m.\u001b[39menter_context(\n\u001b[0;32m   3326\u001b[0m             ax\u001b[38;5;241m.\u001b[39mpatch\u001b[38;5;241m.\u001b[39m_cm_set(facecolor\u001b[38;5;241m=\u001b[39m\u001b[38;5;124m'\u001b[39m\u001b[38;5;124mnone\u001b[39m\u001b[38;5;124m'\u001b[39m, edgecolor\u001b[38;5;241m=\u001b[39m\u001b[38;5;124m'\u001b[39m\u001b[38;5;124mnone\u001b[39m\u001b[38;5;124m'\u001b[39m))\n\u001b[1;32m-> 3328\u001b[0m \u001b[38;5;28mself\u001b[39m\u001b[38;5;241m.\u001b[39mcanvas\u001b[38;5;241m.\u001b[39mprint_figure(fname, \u001b[38;5;241m*\u001b[39m\u001b[38;5;241m*\u001b[39mkwargs)\n",
      "File \u001b[1;32m~\\anaconda3\\lib\\site-packages\\matplotlib\\backend_bases.py:2362\u001b[0m, in \u001b[0;36mFigureCanvasBase.print_figure\u001b[1;34m(self, filename, dpi, facecolor, edgecolor, orientation, format, bbox_inches, pad_inches, bbox_extra_artists, backend, **kwargs)\u001b[0m\n\u001b[0;32m   2358\u001b[0m \u001b[38;5;28;01mtry\u001b[39;00m:\n\u001b[0;32m   2359\u001b[0m     \u001b[38;5;66;03m# _get_renderer may change the figure dpi (as vector formats\u001b[39;00m\n\u001b[0;32m   2360\u001b[0m     \u001b[38;5;66;03m# force the figure dpi to 72), so we need to set it again here.\u001b[39;00m\n\u001b[0;32m   2361\u001b[0m     \u001b[38;5;28;01mwith\u001b[39;00m cbook\u001b[38;5;241m.\u001b[39m_setattr_cm(\u001b[38;5;28mself\u001b[39m\u001b[38;5;241m.\u001b[39mfigure, dpi\u001b[38;5;241m=\u001b[39mdpi):\n\u001b[1;32m-> 2362\u001b[0m         result \u001b[38;5;241m=\u001b[39m print_method(\n\u001b[0;32m   2363\u001b[0m             filename,\n\u001b[0;32m   2364\u001b[0m             facecolor\u001b[38;5;241m=\u001b[39mfacecolor,\n\u001b[0;32m   2365\u001b[0m             edgecolor\u001b[38;5;241m=\u001b[39medgecolor,\n\u001b[0;32m   2366\u001b[0m             orientation\u001b[38;5;241m=\u001b[39morientation,\n\u001b[0;32m   2367\u001b[0m             bbox_inches_restore\u001b[38;5;241m=\u001b[39m_bbox_inches_restore,\n\u001b[0;32m   2368\u001b[0m             \u001b[38;5;241m*\u001b[39m\u001b[38;5;241m*\u001b[39mkwargs)\n\u001b[0;32m   2369\u001b[0m \u001b[38;5;28;01mfinally\u001b[39;00m:\n\u001b[0;32m   2370\u001b[0m     \u001b[38;5;28;01mif\u001b[39;00m bbox_inches \u001b[38;5;129;01mand\u001b[39;00m restore_bbox:\n",
      "File \u001b[1;32m~\\anaconda3\\lib\\site-packages\\matplotlib\\backend_bases.py:2228\u001b[0m, in \u001b[0;36mFigureCanvasBase._switch_canvas_and_return_print_method.<locals>.<lambda>\u001b[1;34m(*args, **kwargs)\u001b[0m\n\u001b[0;32m   2224\u001b[0m     optional_kws \u001b[38;5;241m=\u001b[39m {  \u001b[38;5;66;03m# Passed by print_figure for other renderers.\u001b[39;00m\n\u001b[0;32m   2225\u001b[0m         \u001b[38;5;124m\"\u001b[39m\u001b[38;5;124mdpi\u001b[39m\u001b[38;5;124m\"\u001b[39m, \u001b[38;5;124m\"\u001b[39m\u001b[38;5;124mfacecolor\u001b[39m\u001b[38;5;124m\"\u001b[39m, \u001b[38;5;124m\"\u001b[39m\u001b[38;5;124medgecolor\u001b[39m\u001b[38;5;124m\"\u001b[39m, \u001b[38;5;124m\"\u001b[39m\u001b[38;5;124morientation\u001b[39m\u001b[38;5;124m\"\u001b[39m,\n\u001b[0;32m   2226\u001b[0m         \u001b[38;5;124m\"\u001b[39m\u001b[38;5;124mbbox_inches_restore\u001b[39m\u001b[38;5;124m\"\u001b[39m}\n\u001b[0;32m   2227\u001b[0m     skip \u001b[38;5;241m=\u001b[39m optional_kws \u001b[38;5;241m-\u001b[39m {\u001b[38;5;241m*\u001b[39minspect\u001b[38;5;241m.\u001b[39msignature(meth)\u001b[38;5;241m.\u001b[39mparameters}\n\u001b[1;32m-> 2228\u001b[0m     print_method \u001b[38;5;241m=\u001b[39m functools\u001b[38;5;241m.\u001b[39mwraps(meth)(\u001b[38;5;28;01mlambda\u001b[39;00m \u001b[38;5;241m*\u001b[39margs, \u001b[38;5;241m*\u001b[39m\u001b[38;5;241m*\u001b[39mkwargs: meth(\n\u001b[0;32m   2229\u001b[0m         \u001b[38;5;241m*\u001b[39margs, \u001b[38;5;241m*\u001b[39m\u001b[38;5;241m*\u001b[39m{k: v \u001b[38;5;28;01mfor\u001b[39;00m k, v \u001b[38;5;129;01min\u001b[39;00m kwargs\u001b[38;5;241m.\u001b[39mitems() \u001b[38;5;28;01mif\u001b[39;00m k \u001b[38;5;129;01mnot\u001b[39;00m \u001b[38;5;129;01min\u001b[39;00m skip}))\n\u001b[0;32m   2230\u001b[0m \u001b[38;5;28;01melse\u001b[39;00m:  \u001b[38;5;66;03m# Let third-parties do as they see fit.\u001b[39;00m\n\u001b[0;32m   2231\u001b[0m     print_method \u001b[38;5;241m=\u001b[39m meth\n",
      "File \u001b[1;32m~\\anaconda3\\lib\\site-packages\\matplotlib\\backends\\backend_agg.py:509\u001b[0m, in \u001b[0;36mFigureCanvasAgg.print_png\u001b[1;34m(self, filename_or_obj, metadata, pil_kwargs)\u001b[0m\n\u001b[0;32m    462\u001b[0m \u001b[38;5;28;01mdef\u001b[39;00m \u001b[38;5;21mprint_png\u001b[39m(\u001b[38;5;28mself\u001b[39m, filename_or_obj, \u001b[38;5;241m*\u001b[39m, metadata\u001b[38;5;241m=\u001b[39m\u001b[38;5;28;01mNone\u001b[39;00m, pil_kwargs\u001b[38;5;241m=\u001b[39m\u001b[38;5;28;01mNone\u001b[39;00m):\n\u001b[0;32m    463\u001b[0m     \u001b[38;5;124;03m\"\"\"\u001b[39;00m\n\u001b[0;32m    464\u001b[0m \u001b[38;5;124;03m    Write the figure to a PNG file.\u001b[39;00m\n\u001b[0;32m    465\u001b[0m \n\u001b[1;32m   (...)\u001b[0m\n\u001b[0;32m    507\u001b[0m \u001b[38;5;124;03m        *metadata*, including the default 'Software' key.\u001b[39;00m\n\u001b[0;32m    508\u001b[0m \u001b[38;5;124;03m    \"\"\"\u001b[39;00m\n\u001b[1;32m--> 509\u001b[0m     \u001b[38;5;28;43mself\u001b[39;49m\u001b[38;5;241;43m.\u001b[39;49m\u001b[43m_print_pil\u001b[49m\u001b[43m(\u001b[49m\u001b[43mfilename_or_obj\u001b[49m\u001b[43m,\u001b[49m\u001b[43m \u001b[49m\u001b[38;5;124;43m\"\u001b[39;49m\u001b[38;5;124;43mpng\u001b[39;49m\u001b[38;5;124;43m\"\u001b[39;49m\u001b[43m,\u001b[49m\u001b[43m \u001b[49m\u001b[43mpil_kwargs\u001b[49m\u001b[43m,\u001b[49m\u001b[43m \u001b[49m\u001b[43mmetadata\u001b[49m\u001b[43m)\u001b[49m\n",
      "File \u001b[1;32m~\\anaconda3\\lib\\site-packages\\matplotlib\\backends\\backend_agg.py:458\u001b[0m, in \u001b[0;36mFigureCanvasAgg._print_pil\u001b[1;34m(self, filename_or_obj, fmt, pil_kwargs, metadata)\u001b[0m\n\u001b[0;32m    453\u001b[0m \u001b[38;5;124;03m\"\"\"\u001b[39;00m\n\u001b[0;32m    454\u001b[0m \u001b[38;5;124;03mDraw the canvas, then save it using `.image.imsave` (to which\u001b[39;00m\n\u001b[0;32m    455\u001b[0m \u001b[38;5;124;03m*pil_kwargs* and *metadata* are forwarded).\u001b[39;00m\n\u001b[0;32m    456\u001b[0m \u001b[38;5;124;03m\"\"\"\u001b[39;00m\n\u001b[0;32m    457\u001b[0m FigureCanvasAgg\u001b[38;5;241m.\u001b[39mdraw(\u001b[38;5;28mself\u001b[39m)\n\u001b[1;32m--> 458\u001b[0m \u001b[43mmpl\u001b[49m\u001b[38;5;241;43m.\u001b[39;49m\u001b[43mimage\u001b[49m\u001b[38;5;241;43m.\u001b[39;49m\u001b[43mimsave\u001b[49m\u001b[43m(\u001b[49m\n\u001b[0;32m    459\u001b[0m \u001b[43m    \u001b[49m\u001b[43mfilename_or_obj\u001b[49m\u001b[43m,\u001b[49m\u001b[43m \u001b[49m\u001b[38;5;28;43mself\u001b[39;49m\u001b[38;5;241;43m.\u001b[39;49m\u001b[43mbuffer_rgba\u001b[49m\u001b[43m(\u001b[49m\u001b[43m)\u001b[49m\u001b[43m,\u001b[49m\u001b[43m \u001b[49m\u001b[38;5;28;43mformat\u001b[39;49m\u001b[38;5;241;43m=\u001b[39;49m\u001b[43mfmt\u001b[49m\u001b[43m,\u001b[49m\u001b[43m \u001b[49m\u001b[43morigin\u001b[49m\u001b[38;5;241;43m=\u001b[39;49m\u001b[38;5;124;43m\"\u001b[39;49m\u001b[38;5;124;43mupper\u001b[39;49m\u001b[38;5;124;43m\"\u001b[39;49m\u001b[43m,\u001b[49m\n\u001b[0;32m    460\u001b[0m \u001b[43m    \u001b[49m\u001b[43mdpi\u001b[49m\u001b[38;5;241;43m=\u001b[39;49m\u001b[38;5;28;43mself\u001b[39;49m\u001b[38;5;241;43m.\u001b[39;49m\u001b[43mfigure\u001b[49m\u001b[38;5;241;43m.\u001b[39;49m\u001b[43mdpi\u001b[49m\u001b[43m,\u001b[49m\u001b[43m \u001b[49m\u001b[43mmetadata\u001b[49m\u001b[38;5;241;43m=\u001b[39;49m\u001b[43mmetadata\u001b[49m\u001b[43m,\u001b[49m\u001b[43m \u001b[49m\u001b[43mpil_kwargs\u001b[49m\u001b[38;5;241;43m=\u001b[39;49m\u001b[43mpil_kwargs\u001b[49m\u001b[43m)\u001b[49m\n",
      "File \u001b[1;32m~\\anaconda3\\lib\\site-packages\\matplotlib\\image.py:1687\u001b[0m, in \u001b[0;36mimsave\u001b[1;34m(fname, arr, vmin, vmax, cmap, format, origin, dpi, metadata, pil_kwargs)\u001b[0m\n\u001b[0;32m   1685\u001b[0m pil_kwargs\u001b[38;5;241m.\u001b[39msetdefault(\u001b[38;5;124m\"\u001b[39m\u001b[38;5;124mformat\u001b[39m\u001b[38;5;124m\"\u001b[39m, \u001b[38;5;28mformat\u001b[39m)\n\u001b[0;32m   1686\u001b[0m pil_kwargs\u001b[38;5;241m.\u001b[39msetdefault(\u001b[38;5;124m\"\u001b[39m\u001b[38;5;124mdpi\u001b[39m\u001b[38;5;124m\"\u001b[39m, (dpi, dpi))\n\u001b[1;32m-> 1687\u001b[0m image\u001b[38;5;241m.\u001b[39msave(fname, \u001b[38;5;241m*\u001b[39m\u001b[38;5;241m*\u001b[39mpil_kwargs)\n",
      "File \u001b[1;32m~\\anaconda3\\lib\\site-packages\\PIL\\Image.py:2428\u001b[0m, in \u001b[0;36mImage.save\u001b[1;34m(self, fp, format, **params)\u001b[0m\n\u001b[0;32m   2426\u001b[0m         fp \u001b[38;5;241m=\u001b[39m builtins\u001b[38;5;241m.\u001b[39mopen(filename, \u001b[38;5;124m\"\u001b[39m\u001b[38;5;124mr+b\u001b[39m\u001b[38;5;124m\"\u001b[39m)\n\u001b[0;32m   2427\u001b[0m     \u001b[38;5;28;01melse\u001b[39;00m:\n\u001b[1;32m-> 2428\u001b[0m         fp \u001b[38;5;241m=\u001b[39m \u001b[43mbuiltins\u001b[49m\u001b[38;5;241;43m.\u001b[39;49m\u001b[43mopen\u001b[49m\u001b[43m(\u001b[49m\u001b[43mfilename\u001b[49m\u001b[43m,\u001b[49m\u001b[43m \u001b[49m\u001b[38;5;124;43m\"\u001b[39;49m\u001b[38;5;124;43mw+b\u001b[39;49m\u001b[38;5;124;43m\"\u001b[39;49m\u001b[43m)\u001b[49m\n\u001b[0;32m   2430\u001b[0m \u001b[38;5;28;01mtry\u001b[39;00m:\n\u001b[0;32m   2431\u001b[0m     save_handler(\u001b[38;5;28mself\u001b[39m, fp, filename)\n",
      "\u001b[1;31mFileNotFoundError\u001b[0m: [Errno 2] No such file or directory: 'C:\\\\Users\\\\User01\\\\16.05.2023 Instacart Basket Analysis\\\\04 Analysis\\\\Visualizations\\\\bar_combined.png'"
     ]
    }
   ],
   "source": [
    "#Exporting bar chart \n",
    "bar.figure.savefig(os.path.join(path, '04 Analysis', 'Visualizations', 'bar_combined.png'))"
   ]
  },
  {
   "cell_type": "code",
   "execution_count": null,
   "id": "3e379b62",
   "metadata": {},
   "outputs": [],
   "source": [
    "#Creating a histogram\n",
    "hist = df_combined['prices'].plot.hist(bins = 70)"
   ]
  },
  {
   "cell_type": "code",
   "execution_count": null,
   "id": "bffc6119",
   "metadata": {},
   "outputs": [],
   "source": [
    "#Exporting histogram chart as an image\n",
    "hist.figure.savefig(os.path.join(path, '04 Analysis', 'Visualizations', 'hist_prices_combined_70.png'))"
   ]
  },
  {
   "cell_type": "code",
   "execution_count": null,
   "id": "f3fedda9",
   "metadata": {},
   "outputs": [],
   "source": [
    "#Creating a scatterplot\n",
    "scatterplot = sns.scatterplot(x = 'prices', y = 'prices',data = df_combined)"
   ]
  },
  {
   "cell_type": "code",
   "execution_count": null,
   "id": "103bdddb",
   "metadata": {},
   "outputs": [],
   "source": [
    "#Exporting scatterplot\n",
    "scatterplot.figure.savefig(os.path.join(path, '04 Analysis', 'Visualizations', 'scatplt_prices_combined.png'))"
   ]
  },
  {
   "cell_type": "code",
   "execution_count": null,
   "id": "418194dc",
   "metadata": {},
   "outputs": [],
   "source": [
    "#Created a list holding true/false values to test the np.random.rand() <= 0.7\n",
    "np.random.seed(4)\n",
    "dev = np.random.rand(len(df_combined)) <= 0.7"
   ]
  },
  {
   "cell_type": "code",
   "execution_count": null,
   "id": "e2fd4081",
   "metadata": {},
   "outputs": [],
   "source": [
    "dev"
   ]
  },
  {
   "cell_type": "code",
   "execution_count": null,
   "id": "37f640de",
   "metadata": {},
   "outputs": [],
   "source": [
    "np.random.rand(10)"
   ]
  },
  {
   "cell_type": "code",
   "execution_count": null,
   "id": "0e0501e7",
   "metadata": {},
   "outputs": [],
   "source": [
    "#Store 70% of the sample in the dataframe big\n",
    "big = df_combined[dev]"
   ]
  },
  {
   "cell_type": "code",
   "execution_count": null,
   "id": "eac56c09",
   "metadata": {},
   "outputs": [],
   "source": [
    "#Store 30% of the sameple in the datafreame small\n",
    "small = df_combined[~dev]"
   ]
  },
  {
   "cell_type": "code",
   "execution_count": null,
   "id": "83d66766",
   "metadata": {},
   "outputs": [],
   "source": [
    "#Check length of dataframe (# of rows)\n",
    "len(df_combined)"
   ]
  },
  {
   "cell_type": "code",
   "execution_count": null,
   "id": "2473809d",
   "metadata": {},
   "outputs": [],
   "source": [
    "len(big) + len(small)"
   ]
  },
  {
   "cell_type": "code",
   "execution_count": null,
   "id": "7d0c48b2",
   "metadata": {},
   "outputs": [],
   "source": [
    "# Creating new dataframe where prices and order_day_of_week columns are from the small subset\n",
    "df_small = small[['orders_day_of_week','prices']]"
   ]
  },
  {
   "cell_type": "code",
   "execution_count": null,
   "id": "781b99bf",
   "metadata": {},
   "outputs": [],
   "source": [
    "#Creating lineplot\n",
    "lineplot = sns.lineplot(data = df_small, x = 'orders_day_of_week',y = 'prices')"
   ]
  },
  {
   "cell_type": "code",
   "execution_count": null,
   "id": "c1f2fcb2",
   "metadata": {},
   "outputs": [],
   "source": [
    "#Exporting the lineplot\n",
    "lineplot.figure.savefig(os.path.join(path,'04 Analysis', 'Visualizations', 'line_ords_combined.png' ))"
   ]
  },
  {
   "cell_type": "code",
   "execution_count": null,
   "id": "ff7d9600",
   "metadata": {},
   "outputs": [],
   "source": [
    "#Creating a histogram for 'order_hour_of_day'\n",
    "hist_hour = df_combined['order_hour_of_day'].plot.hist(bins = 24)"
   ]
  },
  {
   "cell_type": "markdown",
   "id": "1e966013",
   "metadata": {},
   "source": [
    "# The frequency of orders peaks between 10. am to 5 p.m"
   ]
  },
  {
   "cell_type": "markdown",
   "id": "f2bca0f3",
   "metadata": {},
   "source": [
    "# The marketing team is curious about the distribution of orders among customers in terms of loyalty. Create a bar chart from the “loyalty_flag” column."
   ]
  },
  {
   "cell_type": "code",
   "execution_count": null,
   "id": "99d296c4",
   "metadata": {},
   "outputs": [],
   "source": [
    "#Exporting histogram chart as an image\n",
    "hist_hour.figure.savefig(os.path.join(path, '04 Analysis', 'Visualizations', 'hist_ords_hour_combined_24.png'))"
   ]
  },
  {
   "cell_type": "code",
   "execution_count": null,
   "id": "6f74384f",
   "metadata": {},
   "outputs": [],
   "source": [
    "#Creating a loyalty flag\n",
    "df_combined['max_order'] = df_combined.groupby(['user_id'])['order_number'].transform(np.max)"
   ]
  },
  {
   "cell_type": "code",
   "execution_count": null,
   "id": "8711e796",
   "metadata": {},
   "outputs": [],
   "source": [
    "df_combined.head()"
   ]
  },
  {
   "cell_type": "code",
   "execution_count": null,
   "id": "a69b8133",
   "metadata": {},
   "outputs": [],
   "source": [
    "df_combined.loc[df_combined['max_order'] > 40, 'loyalty_flag'] = 'Loyal customer'"
   ]
  },
  {
   "cell_type": "code",
   "execution_count": null,
   "id": "f6c2c2b5",
   "metadata": {},
   "outputs": [],
   "source": [
    "df_combined.loc[(df_combined['max_order'] <= 40) & (df_combined['max_order'] > 10), 'loyalty_flag'] = 'Regular customer'"
   ]
  },
  {
   "cell_type": "code",
   "execution_count": null,
   "id": "17859d4c",
   "metadata": {},
   "outputs": [],
   "source": [
    "df_combined.loc[df_combined['max_order'] <= 10, 'loyalty_flag'] = 'New customer'"
   ]
  },
  {
   "cell_type": "code",
   "execution_count": null,
   "id": "3cc9de8d",
   "metadata": {},
   "outputs": [],
   "source": [
    "df_combined['loyalty_flag'].value_counts(dropna = False)"
   ]
  },
  {
   "cell_type": "code",
   "execution_count": null,
   "id": "4f40b45c",
   "metadata": {},
   "outputs": [],
   "source": [
    "#Creating bar chart for loyalty flag\n",
    "customers_bar = df_combined['loyalty_flag'].value_counts().plot.bar()"
   ]
  },
  {
   "cell_type": "code",
   "execution_count": null,
   "id": "bc6c7bd2",
   "metadata": {},
   "outputs": [],
   "source": [
    "#Exporting Customers bar chart\n",
    "customers_bar.figure.savefig(os.path.join(path,'04 Analysis', 'Visualizations', 'customer_loyalty_flag_combined.png' ))"
   ]
  },
  {
   "cell_type": "code",
   "execution_count": null,
   "id": "dcc950af",
   "metadata": {},
   "outputs": [],
   "source": [
    "#Creating small dataframe for the columns we need and using the small database we already have\n",
    "df_small2 = small[['prices', 'order_hour_of_day'] ]"
   ]
  },
  {
   "cell_type": "code",
   "execution_count": null,
   "id": "9edbc3f7",
   "metadata": {},
   "outputs": [],
   "source": [
    "#Creating lineplot for above df\n",
    "line_hour = sns.lineplot(data = df_small2, x = 'order_hour_of_day',y = 'prices')"
   ]
  },
  {
   "cell_type": "markdown",
   "id": "1c83a454",
   "metadata": {},
   "source": []
  },
  {
   "cell_type": "code",
   "execution_count": null,
   "id": "14df3bb2",
   "metadata": {},
   "outputs": [],
   "source": [
    "#Exporting the lineplot\n",
    "line_hour.figure.savefig(os.path.join(path,'04 Analysis', 'Visualizations', 'expenditures_hour_combined.png' ))"
   ]
  },
  {
   "cell_type": "code",
   "execution_count": null,
   "id": "92a8f1eb",
   "metadata": {},
   "outputs": [],
   "source": [
    "#Creating small dataframe for the columns we need and using the small database we already have\n",
    "#Checking to see if there is a connection between age & number of dependents\n",
    "df_small3 = small[['age', 'number_of_dependants']]"
   ]
  },
  {
   "cell_type": "code",
   "execution_count": null,
   "id": "d2037910",
   "metadata": {},
   "outputs": [],
   "source": [
    "#Creating lineplot for above df\n",
    "line_age = sns.lineplot (data = df_small3, x = 'age', y = 'number_of_dependants')"
   ]
  },
  {
   "cell_type": "markdown",
   "id": "6705cc66",
   "metadata": {},
   "source": [
    "# The line plot does not show a clear trend between age and number of dependents, as the line plot conists of a lot of variation based on the different ages. It can be seen how those 18 yrs old and under have no dependents, which makes sense since they are considered minors."
   ]
  },
  {
   "cell_type": "code",
   "execution_count": null,
   "id": "404fde10",
   "metadata": {},
   "outputs": [],
   "source": [
    "#Exporting lineplot\n",
    "line_age.figure.savefig(os.path.join (path,'04 Analysis', 'Visualizations', 'age_dependants_connection_combined.png'))"
   ]
  },
  {
   "cell_type": "code",
   "execution_count": null,
   "id": "79cf7d3b",
   "metadata": {},
   "outputs": [],
   "source": [
    "#Creating a scatter plot for age & income\n",
    "scatterplot_income = sns.scatterplot(data = df_combined, x= 'age', y = 'income')"
   ]
  },
  {
   "cell_type": "markdown",
   "id": "25c2a936",
   "metadata": {},
   "source": [
    "# The scatterplot above shows the income in relation to customer's ages in 10 year increments. It can be seen that a majority of the customer's make below 200K whereas the income of 60+ yrs is around 600K. This can be supported by a fact that income of any individual increase with increase in its level of experience that is directly proportional to age."
   ]
  },
  {
   "cell_type": "code",
   "execution_count": null,
   "id": "718d6623",
   "metadata": {},
   "outputs": [],
   "source": [
    "#Exported scatterplot\n",
    "scatterplot_income.figure.savefig(os.path.join (path,'04 Analysis', 'Visualizations', 'income_scatterplot_combined.png'))"
   ]
  },
  {
   "cell_type": "markdown",
   "id": "5abdfa7f",
   "metadata": {},
   "source": [
    "# Exporting final Dataset in pickle format"
   ]
  },
  {
   "cell_type": "code",
   "execution_count": null,
   "id": "67672a13",
   "metadata": {},
   "outputs": [],
   "source": [
    "#Exported the customer_merged file\n",
    "df_combined.to_pickle(os.path.join(path, '02 Data', 'Prepared Data','customer_merged_updated.pkl'))"
   ]
  },
  {
   "cell_type": "markdown",
   "id": "dcaefc10",
   "metadata": {},
   "source": [
    "# All visualizations have been exported under visualization folder."
   ]
  },
  {
   "cell_type": "code",
   "execution_count": 8,
   "id": "ead1c708",
   "metadata": {},
   "outputs": [],
   "source": [
    "df_combined.to_csv(os.path.join(path, '02 Data', 'Prepared Data','customer_merged_updated.csv'))\n"
   ]
  },
  {
   "cell_type": "code",
   "execution_count": null,
   "id": "d180cac1",
   "metadata": {},
   "outputs": [],
   "source": [
    " "
   ]
  }
 ],
 "metadata": {
  "kernelspec": {
   "display_name": "Python 3 (ipykernel)",
   "language": "python",
   "name": "python3"
  },
  "language_info": {
   "codemirror_mode": {
    "name": "ipython",
    "version": 3
   },
   "file_extension": ".py",
   "mimetype": "text/x-python",
   "name": "python",
   "nbconvert_exporter": "python",
   "pygments_lexer": "ipython3",
   "version": "3.10.9"
  }
 },
 "nbformat": 4,
 "nbformat_minor": 5
}
